{
 "cells": [
  {
   "cell_type": "code",
   "execution_count": 2,
   "id": "051f9f5a",
   "metadata": {},
   "outputs": [],
   "source": [
    "import torch\n",
    "import math"
   ]
  },
  {
   "cell_type": "code",
   "execution_count": 100,
   "id": "09d160e7",
   "metadata": {},
   "outputs": [],
   "source": [
    "x = torch.linspace(-3.14,3.14,1000)"
   ]
  },
  {
   "cell_type": "code",
   "execution_count": 101,
   "id": "b0f64b09",
   "metadata": {},
   "outputs": [],
   "source": [
    "y = torch.sin(x)"
   ]
  },
  {
   "cell_type": "code",
   "execution_count": 102,
   "id": "8878dbb7",
   "metadata": {},
   "outputs": [],
   "source": [
    "p = torch.tensor([1,2,3])"
   ]
  },
  {
   "cell_type": "code",
   "execution_count": 103,
   "id": "5b24e7f3",
   "metadata": {},
   "outputs": [],
   "source": [
    "xx = x.unsqueeze(-1).pow(p)"
   ]
  },
  {
   "cell_type": "code",
   "execution_count": 66,
   "id": "db89d2f4",
   "metadata": {},
   "outputs": [],
   "source": [
    "model = torch.nn.Sequential(\n",
    "    torch.nn.Linear(3,1),\n",
    "   torch.nn.Flatten(0)\n",
    ")"
   ]
  },
  {
   "cell_type": "code",
   "execution_count": 69,
   "id": "c1d7849c",
   "metadata": {},
   "outputs": [],
   "source": [
    "loss_fn = torch.nn.MSELoss(reduction='sum')"
   ]
  },
  {
   "cell_type": "code",
   "execution_count": 97,
   "id": "15a7cb36",
   "metadata": {},
   "outputs": [],
   "source": [
    "lr = 0.01"
   ]
  },
  {
   "cell_type": "code",
   "execution_count": 98,
   "id": "9d88ce16",
   "metadata": {},
   "outputs": [],
   "source": [
    "optimizer = torch.optim.Adagrad(model.parameters(),lr=lr)"
   ]
  },
  {
   "cell_type": "code",
   "execution_count": 112,
   "id": "e9786584",
   "metadata": {},
   "outputs": [
    {
     "name": "stdout",
     "output_type": "stream",
     "text": [
      "99 8.404635429382324\n",
      "199 8.335515975952148\n",
      "299 8.267627716064453\n",
      "399 8.20089340209961\n",
      "499 8.135295867919922\n",
      "599 8.070866584777832\n",
      "699 8.007537841796875\n",
      "799 7.945291042327881\n",
      "899 7.884129524230957\n",
      "999 7.824044227600098\n",
      "1099 7.764985084533691\n",
      "1199 7.706936836242676\n",
      "1299 7.64989709854126\n",
      "1399 7.593863487243652\n",
      "1499 7.538790225982666\n",
      "1599 7.48466157913208\n",
      "1699 7.43146276473999\n",
      "1799 7.379183292388916\n",
      "1899 7.327826499938965\n",
      "1999 7.277351379394531\n",
      "2099 7.2277445793151855\n",
      "2199 7.178991794586182\n",
      "2299 7.131089210510254\n",
      "2399 7.084020614624023\n",
      "2499 7.037759780883789\n",
      "2599 6.992305755615234\n",
      "2699 6.947642803192139\n",
      "2799 6.903741836547852\n",
      "2899 6.860593795776367\n",
      "2999 6.818185329437256\n",
      "3099 6.7765398025512695\n",
      "3199 6.735611915588379\n",
      "3299 6.695383548736572\n",
      "3399 6.655839443206787\n",
      "3499 6.616975784301758\n",
      "3599 6.578787326812744\n",
      "3699 6.541285037994385\n",
      "3799 6.504419803619385\n",
      "3899 6.468177318572998\n",
      "3999 6.432552814483643\n",
      "4099 6.397566795349121\n",
      "4199 6.363193511962891\n",
      "4299 6.329398155212402\n",
      "4399 6.296167373657227\n",
      "4499 6.263531684875488\n",
      "4599 6.231476783752441\n",
      "4699 6.1999664306640625\n",
      "4799 6.168983459472656\n",
      "4899 6.138568878173828\n",
      "4999 6.108668804168701\n",
      "5099 6.079265117645264\n",
      "5199 6.050376892089844\n",
      "5299 6.022006034851074\n",
      "5399 5.994095325469971\n",
      "5499 5.966682434082031\n",
      "5599 5.9397711753845215\n",
      "5699 5.913297653198242\n",
      "5799 5.887269496917725\n",
      "5899 5.861721038818359\n",
      "5999 5.836582660675049\n",
      "6099 5.8119001388549805\n",
      "6199 5.787662029266357\n",
      "6299 5.763805866241455\n",
      "6399 5.74037504196167\n",
      "6499 5.717355728149414\n",
      "6599 5.694720268249512\n",
      "6699 5.67251443862915\n",
      "6799 5.650649547576904\n",
      "6899 5.629158973693848\n",
      "6999 5.608086585998535\n",
      "7099 5.587331295013428\n",
      "7199 5.56696891784668\n",
      "7299 5.54693078994751\n",
      "7399 5.527268886566162\n",
      "7499 5.507931709289551\n",
      "7599 5.4888916015625\n",
      "7699 5.470249652862549\n",
      "7799 5.451878547668457\n",
      "7899 5.433857440948486\n",
      "7999 5.416123867034912\n",
      "8099 5.398727893829346\n",
      "8199 5.381589412689209\n",
      "8299 5.364776134490967\n",
      "8399 5.348251819610596\n",
      "8499 5.331992149353027\n",
      "8599 5.316043376922607\n",
      "8699 5.300354480743408\n",
      "8799 5.28493070602417\n",
      "8899 5.269789218902588\n",
      "8999 5.254909515380859\n",
      "9099 5.240257263183594\n",
      "9199 5.225901126861572\n",
      "9299 5.211752414703369\n",
      "9399 5.197883129119873\n",
      "9499 5.184238433837891\n",
      "9599 5.170819282531738\n",
      "9699 5.157662391662598\n",
      "9799 5.144689083099365\n",
      "9899 5.131986141204834\n",
      "9999 5.119457244873047\n"
     ]
    }
   ],
   "source": [
    "for t in range(10000):\n",
    "    y_pred = model(xx)\n",
    "    loss = loss_fn(y_pred,y)\n",
    "    \n",
    "    if t%100 == 99:\n",
    "        print(t,loss.item())\n",
    "    \n",
    "    optimizer.zero_grad()\n",
    "    \n",
    "    loss.backward()\n",
    "    \n",
    "    optimizer.step()"
   ]
  },
  {
   "cell_type": "code",
   "execution_count": 115,
   "id": "371ff6e8",
   "metadata": {},
   "outputs": [],
   "source": [
    "y_n = y_pred.detach().numpy()\n",
    "x_n = x.detach().numpy()"
   ]
  },
  {
   "cell_type": "code",
   "execution_count": 116,
   "id": "b67feefc",
   "metadata": {},
   "outputs": [],
   "source": [
    "import matplotlib.pyplot as plt"
   ]
  },
  {
   "cell_type": "code",
   "execution_count": 119,
   "id": "4d200032",
   "metadata": {},
   "outputs": [
    {
     "data": {
      "text/plain": [
       "[<matplotlib.lines.Line2D at 0x129cb3610>]"
      ]
     },
     "execution_count": 119,
     "metadata": {},
     "output_type": "execute_result"
    },
    {
     "data": {
      "image/png": "[encoded data removed]",
      "text/plain": [
       "<Figure size 432x288 with 1 Axes>"
      ]
     },
     "metadata": {
      "needs_background": "light"
     },
     "output_type": "display_data"
    }
   ],
   "source": [
    "plt.plot(x_n,y_n)\n",
    "plt.plot(x_n,y.detach().numpy() - y_n)"
   ]
  },
  {
   "cell_type": "code",
   "execution_count": 120,
   "id": "6f149675",
   "metadata": {},
   "outputs": [
    {
     "ename": "ValueError",
     "evalue": "can only convert an array of size 1 to a Python scalar",
     "output_type": "error",
     "traceback": [
      "\u001b[0;31m---------------------------------------------------------------------------\u001b[0m",
      "\u001b[0;31mValueError\u001b[0m                                Traceback (most recent call last)",
      "\u001b[0;32m<ipython-input-120-0c4a6bcf5247>\u001b[0m in \u001b[0;36m<module>\u001b[0;34m\u001b[0m\n\u001b[0;32m----> 1\u001b[0;31m \u001b[0my_n\u001b[0m\u001b[0;34m.\u001b[0m\u001b[0mitem\u001b[0m\u001b[0;34m(\u001b[0m\u001b[0;34m)\u001b[0m\u001b[0;34m\u001b[0m\u001b[0;34m\u001b[0m\u001b[0m\n\u001b[0m",
      "\u001b[0;31mValueError\u001b[0m: can only convert an array of size 1 to a Python scalar"
     ]
    }
   ],
   "source": [
    "y_n.item()"
   ]
  },
  {
   "cell_type": "code",
   "execution_count": 128,
   "id": "75527dca",
   "metadata": {},
   "outputs": [
    {
     "ename": "RuntimeError",
     "evalue": "flatten() has invalid args: start_dim cannot come after end_dim",
     "output_type": "error",
     "traceback": [
      "\u001b[0;31m---------------------------------------------------------------------------\u001b[0m",
      "\u001b[0;31mRuntimeError\u001b[0m                              Traceback (most recent call last)",
      "\u001b[0;32m<ipython-input-128-1bd8c3d2857d>\u001b[0m in \u001b[0;36m<module>\u001b[0;34m\u001b[0m\n\u001b[0;32m----> 1\u001b[0;31m \u001b[0mtorch\u001b[0m\u001b[0;34m.\u001b[0m\u001b[0mtensor\u001b[0m\u001b[0;34m(\u001b[0m\u001b[0;34m[\u001b[0m\u001b[0;34m[\u001b[0m\u001b[0;36m1\u001b[0m\u001b[0;34m,\u001b[0m\u001b[0;36m2\u001b[0m\u001b[0;34m,\u001b[0m\u001b[0;36m3\u001b[0m\u001b[0;34m]\u001b[0m\u001b[0;34m,\u001b[0m\u001b[0;34m[\u001b[0m\u001b[0;36m4\u001b[0m\u001b[0;34m,\u001b[0m\u001b[0;36m5\u001b[0m\u001b[0;34m,\u001b[0m\u001b[0;36m6\u001b[0m\u001b[0;34m]\u001b[0m\u001b[0;34m]\u001b[0m\u001b[0;34m)\u001b[0m\u001b[0;34m.\u001b[0m\u001b[0mflatten\u001b[0m\u001b[0;34m(\u001b[0m\u001b[0;34m-\u001b[0m\u001b[0;36m1\u001b[0m\u001b[0;34m,\u001b[0m\u001b[0;36m0\u001b[0m\u001b[0;34m)\u001b[0m\u001b[0;34m\u001b[0m\u001b[0;34m\u001b[0m\u001b[0m\n\u001b[0m",
      "\u001b[0;31mRuntimeError\u001b[0m: flatten() has invalid args: start_dim cannot come after end_dim"
     ]
    }
   ],
   "source": []
  },
  {
   "cell_type": "code",
   "execution_count": null,
   "id": "9cd30835",
   "metadata": {},
   "outputs": [],
   "source": []
  }
 ],
 "metadata": {
  "kernelspec": {
   "display_name": "Python 3",
   "language": "python",
   "name": "python3"
  },
  "language_info": {
   "codemirror_mode": {
    "name": "ipython",
    "version": 3
   },
   "file_extension": ".py",
   "mimetype": "text/x-python",
   "name": "python",
   "nbconvert_exporter": "python",
   "pygments_lexer": "ipython3",
   "version": "3.9.5"
  }
 },
 "nbformat": 4,
 "nbformat_minor": 5
}

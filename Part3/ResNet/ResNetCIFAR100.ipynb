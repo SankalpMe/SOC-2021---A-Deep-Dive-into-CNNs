{
 "cells": [
  {
   "cell_type": "code",
   "execution_count": 1,
   "metadata": {
    "id": "M1PSVuTtx8zG"
   },
   "outputs": [],
   "source": [
    "import torch.nn as nn\n",
    "import torchvision\n",
    "from torchvision import transforms\n",
    "import torch\n",
    "from matplotlib import pyplot as plt\n",
    "import numpy as np\n",
    "import torchvision.models as models\n",
    "from torchvision import datasets\n",
    "from torch.utils.data import DataLoader"
   ]
  },
  {
   "cell_type": "code",
   "execution_count": 2,
   "metadata": {
    "id": "2GacIS7Fhlkc"
   },
   "outputs": [],
   "source": [
    "batch_size = 100\n",
    "n_classes = 100\n",
    "n_epochs = 100"
   ]
  },
  {
   "cell_type": "code",
   "execution_count": 3,
   "metadata": {
    "id": "R0YRTDJXyc-7"
   },
   "outputs": [],
   "source": [
    "# Source: \"https://github.com/bentrevett/pytorch-image-classification/blob/master/5_resnet.ipynb\"\n",
    "class ResNet(nn.Module):\n",
    "    def __init__(self, config, output_dim):\n",
    "        super().__init__()\n",
    "\n",
    "        block, n_blocks, channels = config\n",
    "        self.in_channels = channels[0]\n",
    "\n",
    "        self.conv1 = nn.Conv2d(3, self.in_channels, kernel_size = 7, stride = 2, padding = 3, bias = False)\n",
    "        self.bn1 = nn.BatchNorm2d(self.in_channels)\n",
    "        self.relu = nn.ReLU(inplace = True)\n",
    "        self.maxpool = nn.MaxPool2d(kernel_size = 3, stride = 2, padding = 1)\n",
    "\n",
    "        self.layer1 = self.get_resnet_layer(block, n_blocks[0], channels[0])\n",
    "        self.layer2 = self.get_resnet_layer(block, n_blocks[1], channels[1], stride = 2)\n",
    "        self.layer3 = self.get_resnet_layer(block, n_blocks[2], channels[2], stride = 2)\n",
    "        self.layer4 = self.get_resnet_layer(block, n_blocks[3], channels[3], stride = 2)\n",
    "\n",
    "        self.avgpool = nn.AdaptiveAvgPool2d((1,1))\n",
    "        self.fc = nn.Linear(self.in_channels, output_dim)\n",
    "\n",
    "    def get_resnet_layer(self, block, n_blocks, channels, stride = 1):\n",
    "\n",
    "        layers = []\n",
    "        \n",
    "        if self.in_channels != block.expansion * channels:\n",
    "            downsample = True\n",
    "        else:\n",
    "            downsample = False\n",
    "\n",
    "        layers.append(block(self.in_channels, channels, stride, downsample))\n",
    "\n",
    "        for i in range(1, n_blocks):\n",
    "            layers.append(block(block.expansion * channels, channels))\n",
    "\n",
    "        self.in_channels = block.expansion * channels\n",
    "\n",
    "        return nn.Sequential(*layers)\n",
    "\n",
    "    def forward(self, x):\n",
    "        \n",
    "        x = self.conv1(x)\n",
    "        x = self.bn1(x)\n",
    "        x = self.relu(x)\n",
    "        x = self.maxpool(x)\n",
    "\n",
    "        x = self.layer1(x)\n",
    "        x = self.layer2(x)\n",
    "        x = self.layer3(x)\n",
    "        x = self.layer4(x)\n",
    "        \n",
    "        x = self.avgpool(x)\n",
    "        h = x.view(x.shape[0], -1)\n",
    "        x = self.fc(h)\n",
    "        \n",
    "        return x, h\n",
    "\n",
    "class BasicBlock(nn.Module):\n",
    "    \n",
    "    expansion = 1\n",
    "    \n",
    "    def __init__(self, in_channels, out_channels, stride = 1, downsample = False):\n",
    "        super().__init__()\n",
    "                \n",
    "        self.conv1 = nn.Conv2d(in_channels, out_channels, kernel_size = 3, \n",
    "                               stride = stride, padding = 1, bias = False)\n",
    "        self.bn1 = nn.BatchNorm2d(out_channels)\n",
    "        \n",
    "        self.conv2 = nn.Conv2d(out_channels, out_channels, kernel_size = 3, \n",
    "                               stride = 1, padding = 1, bias = False)\n",
    "        self.bn2 = nn.BatchNorm2d(out_channels)\n",
    "        \n",
    "        self.relu = nn.ReLU(inplace = True)\n",
    "        \n",
    "        if downsample:\n",
    "            conv = nn.Conv2d(in_channels, out_channels, kernel_size = 1, \n",
    "                             stride = stride, bias = False)\n",
    "            bn = nn.BatchNorm2d(out_channels)\n",
    "            downsample = nn.Sequential(conv, bn)\n",
    "        else:\n",
    "            downsample = None\n",
    "        \n",
    "        self.downsample = downsample\n",
    "        \n",
    "    def forward(self, x):\n",
    "        \n",
    "        i = x\n",
    "        \n",
    "        x = self.conv1(x)\n",
    "        x = self.bn1(x)\n",
    "        x = self.relu(x)\n",
    "        \n",
    "        x = self.conv2(x)\n",
    "        x = self.bn2(x)\n",
    "        \n",
    "        if self.downsample is not None:\n",
    "            i = self.downsample(i)\n",
    "                        \n",
    "        x += i\n",
    "        x = self.relu(x)\n",
    "        \n",
    "        return x"
   ]
  },
  {
   "cell_type": "code",
   "execution_count": 4,
   "metadata": {
    "id": "RaccaJaYZxfG"
   },
   "outputs": [],
   "source": [
    "from collections import namedtuple\n",
    "ResNetConfig = namedtuple('ResNetConfig', ['block', 'n_blocks', 'channels'])"
   ]
  },
  {
   "cell_type": "code",
   "execution_count": 5,
   "metadata": {
    "id": "u5WoKNOdZ_wY"
   },
   "outputs": [],
   "source": [
    "resnet18_config = ResNetConfig(block = BasicBlock,\n",
    "                               n_blocks = [2,2,2,2],\n",
    "                               channels = [64, 128, 256, 512])"
   ]
  },
  {
   "cell_type": "code",
   "execution_count": 6,
   "metadata": {
    "id": "cd1fT6ztaI5e"
   },
   "outputs": [],
   "source": [
    "class Bottleneck(nn.Module):\n",
    "    \n",
    "    expansion = 4\n",
    "    \n",
    "    def __init__(self, in_channels, out_channels, stride = 1, downsample = False):\n",
    "        super().__init__()\n",
    "    \n",
    "        self.conv1 = nn.Conv2d(in_channels, out_channels, kernel_size = 1, \n",
    "                               stride = 1, bias = False)\n",
    "        self.bn1 = nn.BatchNorm2d(out_channels)\n",
    "        \n",
    "        self.conv2 = nn.Conv2d(out_channels, out_channels, kernel_size = 3, \n",
    "                               stride = stride, padding = 1, bias = False)\n",
    "        self.bn2 = nn.BatchNorm2d(out_channels)\n",
    "        \n",
    "        self.conv3 = nn.Conv2d(out_channels, self.expansion * out_channels, kernel_size = 1,\n",
    "                               stride = 1, bias = False)\n",
    "        self.bn3 = nn.BatchNorm2d(self.expansion * out_channels)\n",
    "        \n",
    "        self.relu = nn.ReLU(inplace = True)\n",
    "        \n",
    "        if downsample:\n",
    "            conv = nn.Conv2d(in_channels, self.expansion * out_channels, kernel_size = 1, \n",
    "                             stride = stride, bias = False)\n",
    "            bn = nn.BatchNorm2d(self.expansion * out_channels)\n",
    "            downsample = nn.Sequential(conv, bn)\n",
    "        else:\n",
    "            downsample = None\n",
    "            \n",
    "        self.downsample = downsample\n",
    "        \n",
    "    def forward(self, x):\n",
    "        \n",
    "        i = x\n",
    "        \n",
    "        x = self.conv1(x)\n",
    "        x = self.bn1(x)\n",
    "        x = self.relu(x)\n",
    "        \n",
    "        x = self.conv2(x)\n",
    "        x = self.bn2(x)\n",
    "        x = self.relu(x)\n",
    "        \n",
    "        x = self.conv3(x)\n",
    "        x = self.bn3(x)\n",
    "                \n",
    "        if self.downsample is not None:\n",
    "            i = self.downsample(i)\n",
    "            \n",
    "        x += i\n",
    "        x = self.relu(x)\n",
    "        return x"
   ]
  },
  {
   "cell_type": "code",
   "execution_count": 7,
   "metadata": {
    "id": "3OPatbL6aTug"
   },
   "outputs": [],
   "source": [
    "resnet50_config = ResNetConfig(block = Bottleneck,\n",
    "                               n_blocks = [3, 4, 6, 3],\n",
    "                               channels = [64, 128, 256, 512])\n"
   ]
  },
  {
   "cell_type": "code",
   "execution_count": 8,
   "metadata": {
    "id": "ULAyUg_yyi6X"
   },
   "outputs": [],
   "source": [
    "\n",
    "\n",
    "def resnet( pretrained=False,output_dim=n_classes):\n",
    "    model = ResNet(resnet50_config,output_dim)\n",
    "    model = model.cuda()\n",
    "\n",
    "    if(pretrained):\n",
    "      rmd = models.resnet50(True)\n",
    "      rmd.fc = nn.Linear(in_features=rmd.fc.in_features, out_features=output_dim, bias=True)\n",
    "      model.load_state_dict(rmd.state_dict())\n",
    "    return model"
   ]
  },
  {
   "cell_type": "code",
   "execution_count": 8,
   "metadata": {
    "id": "zDl7pyE-nVJB"
   },
   "outputs": [],
   "source": []
  },
  {
   "cell_type": "code",
   "execution_count": 9,
   "metadata": {
    "id": "qXQAU7_sFJoI"
   },
   "outputs": [],
   "source": [
    "image_transforms = {\n",
    "    'train':\n",
    "    transforms.Compose([\n",
    "        transforms.RandomResizedCrop(size=256, scale=(0.8, 1.0)),\n",
    "        transforms.RandomRotation(degrees=15),\n",
    "        transforms.ColorJitter(),\n",
    "        transforms.RandomHorizontalFlip(),\n",
    "        transforms.CenterCrop(size=224),  # Image net standards\n",
    "        transforms.ToTensor(),\n",
    "        transforms.Normalize([0.485, 0.456, 0.406],\n",
    "                             [0.229, 0.224, 0.225])  # Imagenet standards\n",
    "    ]),\n",
    "\n",
    "    'test':\n",
    "    transforms.Compose([\n",
    "        transforms.Resize(size=256),\n",
    "        transforms.CenterCrop(size=224),\n",
    "        transforms.ToTensor(),\n",
    "        transforms.Normalize([0.485, 0.456, 0.406], [0.229, 0.224, 0.225])\n",
    "    ]),\n",
    "}\n",
    "\n",
    "labels_map = {\n",
    "    0: \"T-Shirt\",\n",
    "    1: \"Trouser\",\n",
    "    2: \"Pullover\",\n",
    "    3: \"Dress\",\n",
    "    4: \"Coat\",\n",
    "    5: \"Sandal\",\n",
    "    6: \"Shirt\",\n",
    "    7: \"Sneaker\",\n",
    "    8: \"Bag\",\n",
    "    9: \"Ankle Boot\",\n",
    "}"
   ]
  },
  {
   "cell_type": "code",
   "execution_count": 10,
   "metadata": {
    "colab": {
     "base_uri": "https://localhost:8080/"
    },
    "id": "TNmlUxBeGhTz",
    "outputId": "671092b3-774e-48cd-e0e7-4d275d84a68c"
   },
   "outputs": [
    {
     "name": "stdout",
     "output_type": "stream",
     "text": [
      "Files already downloaded and verified\n",
      "Files already downloaded and verified\n"
     ]
    }
   ],
   "source": [
    "dataset = {\n",
    "    'train': datasets.CIFAR100(\n",
    "      root=\"data\",\n",
    "      #train=True,\n",
    "      download=True,\n",
    "      transform=image_transforms['train'],\n",
    "    ),\n",
    "    'test': datasets.CIFAR100(\n",
    "      root=\"data\",\n",
    "      train=False,\n",
    "      download=True,\n",
    "      transform=image_transforms['test'],\n",
    "    )\n",
    "}\n",
    "\n",
    "# Dataloader iterators, make sure to shuffle\n",
    "dataloaders = {\n",
    "    'train': DataLoader(dataset['train'], batch_size=batch_size,pin_memory=True, shuffle=True),\n",
    "    'test': DataLoader(dataset['test'], batch_size=batch_size, shuffle=True)\n",
    "}"
   ]
  },
  {
   "cell_type": "code",
   "execution_count": 11,
   "metadata": {
    "id": "_QgxNuhOjFAI"
   },
   "outputs": [],
   "source": [
    "model = resnet(True)"
   ]
  },
  {
   "cell_type": "code",
   "execution_count": 43,
   "metadata": {
    "id": "ywPFUQ8UsSbJ"
   },
   "outputs": [],
   "source": [
    "for name, param in model.named_parameters():\n",
    "    param.requires_grad = True\n"
   ]
  },
  {
   "cell_type": "code",
   "execution_count": 12,
   "metadata": {
    "colab": {
     "base_uri": "https://localhost:8080/"
    },
    "id": "gWdztK2Li3ML",
    "outputId": "328aa703-a492-4307-d184-49fac0130fd6"
   },
   "outputs": [
    {
     "name": "stdout",
     "output_type": "stream",
     "text": [
      "hit\n"
     ]
    }
   ],
   "source": [
    "for name, param in model.named_parameters():\n",
    "    if param.requires_grad:\n",
    "        if name == \"layer2.2.conv1.weight\":\n",
    "          print(\"hit\")\n",
    "          break\n",
    "        param.requires_grad = False\n"
   ]
  },
  {
   "cell_type": "code",
   "execution_count": 13,
   "metadata": {
    "id": "XIvsm0zxKX33"
   },
   "outputs": [],
   "source": [
    "criterion = nn.CrossEntropyLoss()\n",
    "optimizer = torch.optim.SGD(model.parameters(),lr=0.001)"
   ]
  },
  {
   "cell_type": "code",
   "execution_count": 51,
   "metadata": {
    "colab": {
     "base_uri": "https://localhost:8080/",
     "height": 1000
    },
    "id": "iDdslroGLNrk",
    "outputId": "86f55bf1-866d-468d-fc73-729dda05a010"
   },
   "outputs": [
    {
     "name": "stdout",
     "output_type": "stream",
     "text": [
      "0 19 0.012500000000000002 4.636507654190064\n",
      "0 39 0.04300000000000001 4.501106142997742\n",
      "0 59 0.084 4.201875483989715\n",
      "0 79 0.18350000000000002 3.702353537082672\n",
      "0 99 0.29150000000000004 3.0746110320091247\n",
      "0 119 0.37 2.4913693189620973\n",
      "0 139 0.40099999999999997 2.1654837667942046\n",
      "0 159 0.43050000000000005 2.028397172689438\n",
      "0 179 0.4685 1.9537582337856292\n",
      "0 199 0.4924999999999999 1.8836251199245453\n",
      "0 219 0.4765 1.9509626507759095\n",
      "0 239 0.45499999999999996 2.12023589015007\n",
      "0 259 0.4740000000000001 2.06063494682312\n",
      "0 279 0.4285 2.23843834400177\n",
      "0 299 0.4405 2.1484829127788543\n",
      "0 319 0.41850000000000004 2.2578144550323485\n",
      "0 339 0.41050000000000003 2.2850689053535462\n",
      "0 359 0.404 2.2803791582584383\n",
      "0 379 0.40599999999999997 2.324513155221939\n",
      "0 399 0.4085 2.359835797548294\n",
      "0 419 0.39449999999999996 2.277678745985031\n",
      "0 439 0.391 2.406343674659729\n",
      "0 459 0.392 2.4155311465263365\n",
      "0 479 0.3695 2.42508385181427\n",
      "0 499 0.38 2.4015726804733277\n",
      "1 19 0.391 2.317367321252823\n",
      "1 39 0.38049999999999995 2.335355520248413\n",
      "1 59 0.38950000000000007 2.3505667090415954\n",
      "1 79 0.3755 2.3301055312156675\n",
      "1 99 0.37850000000000006 2.343497544527054\n",
      "1 119 0.402 2.2895952105522155\n",
      "1 139 0.4000000000000001 2.2568872392177584\n",
      "1 159 0.3940000000000001 2.3055076777935026\n",
      "1 179 0.3905 2.3496725022792817\n",
      "1 199 0.4010000000000001 2.3267905592918394\n",
      "1 219 0.40650000000000003 2.3240808665752413\n",
      "1 239 0.398 2.3283533573150637\n",
      "1 259 0.4105 2.2365826964378357\n",
      "1 279 0.3869999999999999 2.25976784825325\n",
      "1 299 0.41100000000000003 2.2525841534137725\n",
      "1 319 0.40599999999999997 2.202815681695938\n",
      "1 339 0.42699999999999994 2.1670442879199983\n",
      "1 359 0.4335000000000001 2.1665831446647643\n",
      "1 379 0.41950000000000004 2.1891858100891115\n",
      "1 399 0.43199999999999994 2.229184848070145\n",
      "1 419 0.40800000000000003 2.2440495252609254\n",
      "1 439 0.41500000000000004 2.220780664682388\n",
      "1 459 0.43999999999999995 2.207366740703583\n",
      "1 479 0.4205 2.1578813433647155\n",
      "1 499 0.425 2.210874950885773\n",
      "2 19 0.4520000000000001 2.0781567692756653\n",
      "2 39 0.4365000000000001 2.0652775824069978\n",
      "2 59 0.45500000000000007 1.9880138099193574\n",
      "2 79 0.4750000000000001 2.04079584479332\n",
      "2 99 0.4640000000000001 2.0688917696475984\n",
      "2 119 0.45649999999999996 2.009607899188995\n",
      "2 139 0.44699999999999995 1.9822201013565064\n",
      "2 159 0.4645 2.0054282784461974\n",
      "2 179 0.45500000000000007 1.9912537455558776\n",
      "2 199 0.47300000000000003 1.9898934483528137\n",
      "2 219 0.46499999999999997 1.9809652388095855\n",
      "2 239 0.4635000000000001 1.936607414484024\n",
      "2 259 0.473 2.0040433526039125\n",
      "2 279 0.4934999999999999 1.9292947888374328\n",
      "2 299 0.4615 1.9795392334461213\n",
      "2 319 0.46849999999999997 1.962760716676712\n",
      "2 339 0.49750000000000016 1.8590985834598541\n",
      "2 359 0.491 1.8952570021152497\n",
      "2 379 0.46349999999999997 1.9571707248687744\n",
      "2 399 0.485 1.8828608453273774\n",
      "2 419 0.5075000000000001 1.8055834770202637\n",
      "2 439 0.481 1.8743717849254609\n",
      "2 459 0.4885 1.9074367582798004\n",
      "2 479 0.5055 1.8667727828025817\n",
      "2 499 0.49300000000000005 1.9030407249927521\n",
      "3 19 0.49049999999999994 1.802028524875641\n",
      "3 39 0.5245000000000001 1.7626180350780487\n",
      "3 59 0.5195000000000001 1.7230670630931855\n",
      "3 79 0.5225000000000001 1.7433559358119965\n",
      "3 99 0.5135000000000002 1.8168073415756225\n",
      "3 119 0.5125000000000001 1.8159171044826508\n",
      "3 139 0.5245 1.819352352619171\n",
      "3 159 0.5095 1.7622390031814574\n",
      "3 179 0.5169999999999999 1.744307965040207\n",
      "3 199 0.5265 1.690577793121338\n"
     ]
    },
    {
     "ename": "KeyboardInterrupt",
     "evalue": "ignored",
     "output_type": "error",
     "traceback": [
      "\u001b[0;31m---------------------------------------------------------------------------\u001b[0m",
      "\u001b[0;31mKeyboardInterrupt\u001b[0m                         Traceback (most recent call last)",
      "\u001b[0;32m<ipython-input-51-afcb48009f60>\u001b[0m in \u001b[0;36m<module>\u001b[0;34m()\u001b[0m\n\u001b[1;32m     18\u001b[0m     \u001b[0mloss\u001b[0m\u001b[0;34m.\u001b[0m\u001b[0mbackward\u001b[0m\u001b[0;34m(\u001b[0m\u001b[0;34m)\u001b[0m\u001b[0;34m\u001b[0m\u001b[0;34m\u001b[0m\u001b[0m\n\u001b[1;32m     19\u001b[0m \u001b[0;34m\u001b[0m\u001b[0m\n\u001b[0;32m---> 20\u001b[0;31m     \u001b[0maccr\u001b[0m \u001b[0;34m=\u001b[0m \u001b[0;34m(\u001b[0m\u001b[0mtorch\u001b[0m\u001b[0;34m.\u001b[0m\u001b[0margmax\u001b[0m\u001b[0;34m(\u001b[0m\u001b[0mout\u001b[0m\u001b[0;34m,\u001b[0m\u001b[0maxis\u001b[0m\u001b[0;34m=\u001b[0m\u001b[0;36m1\u001b[0m\u001b[0;34m)\u001b[0m \u001b[0;34m==\u001b[0m \u001b[0mtargets\u001b[0m\u001b[0;34m)\u001b[0m\u001b[0;34m.\u001b[0m\u001b[0mdetach\u001b[0m\u001b[0;34m(\u001b[0m\u001b[0;34m)\u001b[0m\u001b[0;34m.\u001b[0m\u001b[0msum\u001b[0m\u001b[0;34m(\u001b[0m\u001b[0;34m)\u001b[0m\u001b[0;34m.\u001b[0m\u001b[0mitem\u001b[0m\u001b[0;34m(\u001b[0m\u001b[0;34m)\u001b[0m \u001b[0;34m/\u001b[0m \u001b[0mbatch_size\u001b[0m\u001b[0;34m\u001b[0m\u001b[0;34m\u001b[0m\u001b[0m\n\u001b[0m\u001b[1;32m     21\u001b[0m     \u001b[0maccuracies\u001b[0m\u001b[0;34m.\u001b[0m\u001b[0mappend\u001b[0m\u001b[0;34m(\u001b[0m\u001b[0maccr\u001b[0m\u001b[0;34m)\u001b[0m\u001b[0;34m\u001b[0m\u001b[0;34m\u001b[0m\u001b[0m\n\u001b[1;32m     22\u001b[0m     \u001b[0mlosses\u001b[0m\u001b[0;34m.\u001b[0m\u001b[0mappend\u001b[0m\u001b[0;34m(\u001b[0m \u001b[0mloss\u001b[0m\u001b[0;34m.\u001b[0m\u001b[0mitem\u001b[0m\u001b[0;34m(\u001b[0m\u001b[0;34m)\u001b[0m \u001b[0;34m)\u001b[0m\u001b[0;34m\u001b[0m\u001b[0;34m\u001b[0m\u001b[0m\n",
      "\u001b[0;31mKeyboardInterrupt\u001b[0m: "
     ]
    }
   ],
   "source": [
    "losses = []\n",
    "accuracies = []\n",
    "r_a = []\n",
    "r_l = []\n",
    "model.train()\n",
    "for epoch in range(n_epochs):\n",
    "  it = 0\n",
    "  for data, targets in dataloaders['train']:\n",
    "    data = data.cuda()\n",
    "    targets = targets.cuda()\n",
    "    # Generate predictions\n",
    "    \n",
    "    out = model(data)[0]\n",
    "    # Calculate loss\n",
    "    \n",
    "    loss = criterion(out, targets)\n",
    "\n",
    "    loss.backward()\n",
    "\n",
    "    accr = (torch.argmax(out,axis=1) == targets).detach().sum().item() / batch_size\n",
    "    accuracies.append(accr)\n",
    "    losses.append( loss.item() )\n",
    "    # Backpropagation\n",
    "    # Update model parameters\n",
    "    optimizer.step()\n",
    "    if it % 20 == 19:\n",
    "      r_a.append(sum(accuracies[-20:]) / 20)\n",
    "      r_l.append(sum(losses[-20:]) / 20)\n",
    "      print(epoch,it,r_a[-1],r_l[-1])\n",
    "    it += 1\n",
    "  \n"
   ]
  },
  {
   "cell_type": "code",
   "execution_count": 58,
   "metadata": {
    "id": "mabMBTmZBJhw"
   },
   "outputs": [],
   "source": [
    "def moving_average(x, w):\n",
    "    return (np.convolve(x, np.ones(w), 'valid') / w)[::w]"
   ]
  },
  {
   "cell_type": "code",
   "execution_count": 61,
   "metadata": {
    "colab": {
     "base_uri": "https://localhost:8080/",
     "height": 590
    },
    "id": "Mkdpve9MCFbj",
    "outputId": "ec29ed58-96e0-4da9-a206-bfd0917a8588"
   },
   "outputs": [
    {
     "data": {
      "image/png": "[encoded data removed]",
      "text/plain": [
       "<Figure size 432x288 with 1 Axes>"
      ]
     },
     "metadata": {
      "needs_background": "light",
      "tags": []
     },
     "output_type": "display_data"
    },
    {
     "data": {
      "text/plain": [
       "[<matplotlib.lines.Line2D at 0x7f6ed47c94d0>]"
      ]
     },
     "execution_count": 61,
     "metadata": {
      "tags": []
     },
     "output_type": "execute_result"
    },
    {
     "data": {
      "image/png": "[encoded data removed]",
      "text/plain": [
       "<Figure size 432x288 with 1 Axes>"
      ]
     },
     "metadata": {
      "needs_background": "light",
      "tags": []
     },
     "output_type": "display_data"
    }
   ],
   "source": [
    "plt.title('Accuracy During Training')\n",
    "plt.ylabel('Accuracy')\n",
    "plt.xlabel('Per 20 Batch')\n",
    "plt.plot(r_a,marker='o')\n",
    "plt.show()\n",
    "plt.title('Mean Loss During Training')\n",
    "plt.ylabel('Loss')\n",
    "plt.xlabel('Per 20 Batch')\n",
    "plt.plot(r_l,marker='o')"
   ]
  },
  {
   "cell_type": "code",
   "execution_count": 90,
   "metadata": {
    "colab": {
     "base_uri": "https://localhost:8080/",
     "height": 426
    },
    "id": "LoUHZ3WjBYvo",
    "outputId": "fa169f6b-a45c-413b-baed-0e48acfc584f"
   },
   "outputs": [
    {
     "name": "stdout",
     "output_type": "stream",
     "text": [
      "0.48\n"
     ]
    }
   ],
   "source": [
    "model.eval()\n",
    "\n",
    "cnt = 0\n",
    "c_accr = 0\n",
    "\n",
    "for data, targets in dataloaders['test']:\n",
    "    # Generate predictions\n",
    "    data = data.cuda()\n",
    "    target= targets.cuda()\n",
    "    out = model(data)[0]\n",
    "    accr = (torch.argmax(out,axis=1) == targets).sum().item() / batch_size\n",
    "    c_accr += (accr)\n",
    "    cnt+=1\n",
    "\n",
    "c_accr /= cnt\n",
    "\n",
    "print(c_accr)"
   ]
  },
  {
   "cell_type": "code",
   "execution_count": 65,
   "metadata": {
    "colab": {
     "base_uri": "https://localhost:8080/"
    },
    "id": "9Xl3Dcf7CqUa",
    "outputId": "250d1749-b50a-47ae-f61b-3d2b437157aa"
   },
   "outputs": [
    {
     "name": "stdout",
     "output_type": "stream",
     "text": [
      "Mounted at /content/drive\n"
     ]
    }
   ],
   "source": [
    "from google.colab import files,drive\n",
    "drive.mount('/content/drive')"
   ]
  },
  {
   "cell_type": "code",
   "execution_count": 72,
   "metadata": {
    "id": "Ax1ccGIuC2Uo"
   },
   "outputs": [],
   "source": [
    "torch.save(model.state_dict(),open(\"./drive/MyDrive/NN/ResNet.pt\",\"wb\"))"
   ]
  },
  {
   "cell_type": "code",
   "execution_count": 73,
   "metadata": {
    "colab": {
     "base_uri": "https://localhost:8080/"
    },
    "id": "akK5EtLaDJj5",
    "outputId": "52baafac-d232-42f5-e139-f7b7b657b1b6"
   },
   "outputs": [
    {
     "name": "stdout",
     "output_type": "stream",
     "text": [
      "AlexNet.pt  ResNet.pt  tf_learning.pt  VGGNet.pt\n"
     ]
    }
   ],
   "source": [
    "!ls ./drive/MyDrive/NN/"
   ]
  },
  {
   "cell_type": "code",
   "execution_count": null,
   "metadata": {
    "id": "YgxrccErDKzf"
   },
   "outputs": [],
   "source": []
  }
 ],
 "metadata": {
  "accelerator": "GPU",
  "colab": {
   "collapsed_sections": [],
   "name": "ResNetCIFAR100.ipynb",
   "provenance": []
  },
  "kernelspec": {
   "display_name": "Python 3",
   "language": "python",
   "name": "python3"
  },
  "language_info": {
   "codemirror_mode": {
    "name": "ipython",
    "version": 3
   },
   "file_extension": ".py",
   "mimetype": "text/x-python",
   "name": "python",
   "nbconvert_exporter": "python",
   "pygments_lexer": "ipython3",
   "version": "3.9.6"
  }
 },
 "nbformat": 4,
 "nbformat_minor": 1
}

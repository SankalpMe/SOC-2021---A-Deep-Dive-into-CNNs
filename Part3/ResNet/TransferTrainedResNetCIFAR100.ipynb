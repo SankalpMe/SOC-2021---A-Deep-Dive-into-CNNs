{
  "nbformat": 4,
  "nbformat_minor": 0,
  "metadata": {
    "colab": {
      "name": "TransferTrainedResNetCIFAR100.ipynb",
      "provenance": [],
      "collapsed_sections": []
    },
    "kernelspec": {
      "name": "python3",
      "display_name": "Python 3"
    },
    "language_info": {
      "name": "python"
    },
    "accelerator": "GPU"
  },
  "cells": [
    {
      "cell_type": "code",
      "metadata": {
        "id": "M1PSVuTtx8zG"
      },
      "source": [
        "import torch.nn as nn\n",
        "import torchvision\n",
        "from torchvision import transforms\n",
        "import torch\n",
        "from matplotlib import pyplot as plt\n",
        "import numpy as np\n",
        "import torchvision.models as models\n",
        "from torchvision import datasets\n",
        "from torch.utils.data import DataLoader"
      ],
      "execution_count": 1,
      "outputs": []
    },
    {
      "cell_type": "code",
      "metadata": {
        "id": "2GacIS7Fhlkc"
      },
      "source": [
        "batch_size = 100\n",
        "n_classes = 100\n",
        "n_epochs = 100"
      ],
      "execution_count": 2,
      "outputs": []
    },
    {
      "cell_type": "code",
      "metadata": {
        "id": "R0YRTDJXyc-7"
      },
      "source": [
        "# Source: \"https://github.com/bentrevett/pytorch-image-classification/blob/master/5_resnet.ipynb\"\n",
        "class ResNet(nn.Module):\n",
        "    def __init__(self, config, output_dim):\n",
        "        super().__init__()\n",
        "\n",
        "        block, n_blocks, channels = config\n",
        "        self.in_channels = channels[0]\n",
        "\n",
        "        self.conv1 = nn.Conv2d(3, self.in_channels, kernel_size = 7, stride = 2, padding = 3, bias = False)\n",
        "        self.bn1 = nn.BatchNorm2d(self.in_channels)\n",
        "        self.relu = nn.ReLU(inplace = True)\n",
        "        self.maxpool = nn.MaxPool2d(kernel_size = 3, stride = 2, padding = 1)\n",
        "\n",
        "        self.layer1 = self.get_resnet_layer(block, n_blocks[0], channels[0])\n",
        "        self.layer2 = self.get_resnet_layer(block, n_blocks[1], channels[1], stride = 2)\n",
        "        self.layer3 = self.get_resnet_layer(block, n_blocks[2], channels[2], stride = 2)\n",
        "        self.layer4 = self.get_resnet_layer(block, n_blocks[3], channels[3], stride = 2)\n",
        "\n",
        "        self.avgpool = nn.AdaptiveAvgPool2d((1,1))\n",
        "        self.fc = nn.Linear(self.in_channels, output_dim)\n",
        "\n",
        "    def get_resnet_layer(self, block, n_blocks, channels, stride = 1):\n",
        "\n",
        "        layers = []\n",
        "        \n",
        "        if self.in_channels != block.expansion * channels:\n",
        "            downsample = True\n",
        "        else:\n",
        "            downsample = False\n",
        "\n",
        "        layers.append(block(self.in_channels, channels, stride, downsample))\n",
        "\n",
        "        for i in range(1, n_blocks):\n",
        "            layers.append(block(block.expansion * channels, channels))\n",
        "\n",
        "        self.in_channels = block.expansion * channels\n",
        "\n",
        "        return nn.Sequential(*layers)\n",
        "\n",
        "    def forward(self, x):\n",
        "        \n",
        "        x = self.conv1(x)\n",
        "        x = self.bn1(x)\n",
        "        x = self.relu(x)\n",
        "        x = self.maxpool(x)\n",
        "\n",
        "        x = self.layer1(x)\n",
        "        x = self.layer2(x)\n",
        "        x = self.layer3(x)\n",
        "        x = self.layer4(x)\n",
        "        \n",
        "        x = self.avgpool(x)\n",
        "        h = x.view(x.shape[0], -1)\n",
        "        x = self.fc(h)\n",
        "        \n",
        "        return x, h\n",
        "\n",
        "class BasicBlock(nn.Module):\n",
        "    \n",
        "    expansion = 1\n",
        "    \n",
        "    def __init__(self, in_channels, out_channels, stride = 1, downsample = False):\n",
        "        super().__init__()\n",
        "                \n",
        "        self.conv1 = nn.Conv2d(in_channels, out_channels, kernel_size = 3, \n",
        "                               stride = stride, padding = 1, bias = False)\n",
        "        self.bn1 = nn.BatchNorm2d(out_channels)\n",
        "        \n",
        "        self.conv2 = nn.Conv2d(out_channels, out_channels, kernel_size = 3, \n",
        "                               stride = 1, padding = 1, bias = False)\n",
        "        self.bn2 = nn.BatchNorm2d(out_channels)\n",
        "        \n",
        "        self.relu = nn.ReLU(inplace = True)\n",
        "        \n",
        "        if downsample:\n",
        "            conv = nn.Conv2d(in_channels, out_channels, kernel_size = 1, \n",
        "                             stride = stride, bias = False)\n",
        "            bn = nn.BatchNorm2d(out_channels)\n",
        "            downsample = nn.Sequential(conv, bn)\n",
        "        else:\n",
        "            downsample = None\n",
        "        \n",
        "        self.downsample = downsample\n",
        "        \n",
        "    def forward(self, x):\n",
        "        \n",
        "        i = x\n",
        "        \n",
        "        x = self.conv1(x)\n",
        "        x = self.bn1(x)\n",
        "        x = self.relu(x)\n",
        "        \n",
        "        x = self.conv2(x)\n",
        "        x = self.bn2(x)\n",
        "        \n",
        "        if self.downsample is not None:\n",
        "            i = self.downsample(i)\n",
        "                        \n",
        "        x += i\n",
        "        x = self.relu(x)\n",
        "        \n",
        "        return x"
      ],
      "execution_count": 3,
      "outputs": []
    },
    {
      "cell_type": "code",
      "metadata": {
        "id": "RaccaJaYZxfG"
      },
      "source": [
        "from collections import namedtuple\n",
        "ResNetConfig = namedtuple('ResNetConfig', ['block', 'n_blocks', 'channels'])"
      ],
      "execution_count": 4,
      "outputs": []
    },
    {
      "cell_type": "code",
      "metadata": {
        "id": "u5WoKNOdZ_wY"
      },
      "source": [
        "resnet18_config = ResNetConfig(block = BasicBlock,\n",
        "                               n_blocks = [2,2,2,2],\n",
        "                               channels = [64, 128, 256, 512])"
      ],
      "execution_count": 5,
      "outputs": []
    },
    {
      "cell_type": "code",
      "metadata": {
        "id": "cd1fT6ztaI5e"
      },
      "source": [
        "class Bottleneck(nn.Module):\n",
        "    \n",
        "    expansion = 4\n",
        "    \n",
        "    def __init__(self, in_channels, out_channels, stride = 1, downsample = False):\n",
        "        super().__init__()\n",
        "    \n",
        "        self.conv1 = nn.Conv2d(in_channels, out_channels, kernel_size = 1, \n",
        "                               stride = 1, bias = False)\n",
        "        self.bn1 = nn.BatchNorm2d(out_channels)\n",
        "        \n",
        "        self.conv2 = nn.Conv2d(out_channels, out_channels, kernel_size = 3, \n",
        "                               stride = stride, padding = 1, bias = False)\n",
        "        self.bn2 = nn.BatchNorm2d(out_channels)\n",
        "        \n",
        "        self.conv3 = nn.Conv2d(out_channels, self.expansion * out_channels, kernel_size = 1,\n",
        "                               stride = 1, bias = False)\n",
        "        self.bn3 = nn.BatchNorm2d(self.expansion * out_channels)\n",
        "        \n",
        "        self.relu = nn.ReLU(inplace = True)\n",
        "        \n",
        "        if downsample:\n",
        "            conv = nn.Conv2d(in_channels, self.expansion * out_channels, kernel_size = 1, \n",
        "                             stride = stride, bias = False)\n",
        "            bn = nn.BatchNorm2d(self.expansion * out_channels)\n",
        "            downsample = nn.Sequential(conv, bn)\n",
        "        else:\n",
        "            downsample = None\n",
        "            \n",
        "        self.downsample = downsample\n",
        "        \n",
        "    def forward(self, x):\n",
        "        \n",
        "        i = x\n",
        "        \n",
        "        x = self.conv1(x)\n",
        "        x = self.bn1(x)\n",
        "        x = self.relu(x)\n",
        "        \n",
        "        x = self.conv2(x)\n",
        "        x = self.bn2(x)\n",
        "        x = self.relu(x)\n",
        "        \n",
        "        x = self.conv3(x)\n",
        "        x = self.bn3(x)\n",
        "                \n",
        "        if self.downsample is not None:\n",
        "            i = self.downsample(i)\n",
        "            \n",
        "        x += i\n",
        "        x = self.relu(x)\n",
        "        return x"
      ],
      "execution_count": 6,
      "outputs": []
    },
    {
      "cell_type": "code",
      "metadata": {
        "id": "3OPatbL6aTug"
      },
      "source": [
        "resnet50_config = ResNetConfig(block = Bottleneck,\n",
        "                               n_blocks = [3, 4, 6, 3],\n",
        "                               channels = [64, 128, 256, 512])\n"
      ],
      "execution_count": 7,
      "outputs": []
    },
    {
      "cell_type": "code",
      "metadata": {
        "id": "ULAyUg_yyi6X"
      },
      "source": [
        "\n",
        "\n",
        "def resnet( pretrained=False,output_dim=n_classes):\n",
        "    model = ResNet(resnet50_config,output_dim)\n",
        "    model = model.cuda()\n",
        "\n",
        "    if(pretrained):\n",
        "      rmd = models.resnet50(True)\n",
        "      rmd.fc = nn.Linear(in_features=rmd.fc.in_features, out_features=output_dim, bias=True)\n",
        "      model.load_state_dict(rmd.state_dict())\n",
        "    return model"
      ],
      "execution_count": 8,
      "outputs": []
    },
    {
      "cell_type": "code",
      "metadata": {
        "id": "zDl7pyE-nVJB"
      },
      "source": [
        ""
      ],
      "execution_count": 8,
      "outputs": []
    },
    {
      "cell_type": "code",
      "metadata": {
        "id": "qXQAU7_sFJoI"
      },
      "source": [
        "image_transforms = {\n",
        "    'train':\n",
        "    transforms.Compose([\n",
        "        transforms.RandomResizedCrop(size=256, scale=(0.8, 1.0)),\n",
        "        transforms.RandomRotation(degrees=15),\n",
        "        transforms.ColorJitter(),\n",
        "        transforms.RandomHorizontalFlip(),\n",
        "        transforms.CenterCrop(size=224),  # Image net standards\n",
        "        transforms.ToTensor(),\n",
        "        transforms.Normalize([0.485, 0.456, 0.406],\n",
        "                             [0.229, 0.224, 0.225])  # Imagenet standards\n",
        "    ]),\n",
        "\n",
        "    'test':\n",
        "    transforms.Compose([\n",
        "        transforms.Resize(size=256),\n",
        "        transforms.CenterCrop(size=224),\n",
        "        transforms.ToTensor(),\n",
        "        transforms.Normalize([0.485, 0.456, 0.406], [0.229, 0.224, 0.225])\n",
        "    ]),\n",
        "}\n",
        "\n",
        "labels_map = {\n",
        "    0: \"T-Shirt\",\n",
        "    1: \"Trouser\",\n",
        "    2: \"Pullover\",\n",
        "    3: \"Dress\",\n",
        "    4: \"Coat\",\n",
        "    5: \"Sandal\",\n",
        "    6: \"Shirt\",\n",
        "    7: \"Sneaker\",\n",
        "    8: \"Bag\",\n",
        "    9: \"Ankle Boot\",\n",
        "}"
      ],
      "execution_count": 9,
      "outputs": []
    },
    {
      "cell_type": "code",
      "metadata": {
        "id": "TNmlUxBeGhTz",
        "colab": {
          "base_uri": "https://localhost:8080/"
        },
        "outputId": "671092b3-774e-48cd-e0e7-4d275d84a68c"
      },
      "source": [
        "dataset = {\n",
        "    'train': datasets.CIFAR100(\n",
        "      root=\"data\",\n",
        "      #train=True,\n",
        "      download=True,\n",
        "      transform=image_transforms['train'],\n",
        "    ),\n",
        "    'test': datasets.CIFAR100(\n",
        "      root=\"data\",\n",
        "      train=False,\n",
        "      download=True,\n",
        "      transform=image_transforms['test'],\n",
        "    )\n",
        "}\n",
        "\n",
        "# Dataloader iterators, make sure to shuffle\n",
        "dataloaders = {\n",
        "    'train': DataLoader(dataset['train'], batch_size=batch_size,pin_memory=True, shuffle=True),\n",
        "    'test': DataLoader(dataset['test'], batch_size=batch_size, shuffle=True)\n",
        "}"
      ],
      "execution_count": 10,
      "outputs": [
        {
          "output_type": "stream",
          "text": [
            "Files already downloaded and verified\n",
            "Files already downloaded and verified\n"
          ],
          "name": "stdout"
        }
      ]
    },
    {
      "cell_type": "code",
      "metadata": {
        "id": "_QgxNuhOjFAI"
      },
      "source": [
        "model = resnet(True)"
      ],
      "execution_count": 11,
      "outputs": []
    },
    {
      "cell_type": "code",
      "metadata": {
        "id": "ywPFUQ8UsSbJ"
      },
      "source": [
        "for name, param in model.named_parameters():\n",
        "    param.requires_grad = True\n"
      ],
      "execution_count": 43,
      "outputs": []
    },
    {
      "cell_type": "code",
      "metadata": {
        "colab": {
          "base_uri": "https://localhost:8080/"
        },
        "id": "gWdztK2Li3ML",
        "outputId": "328aa703-a492-4307-d184-49fac0130fd6"
      },
      "source": [
        "for name, param in model.named_parameters():\n",
        "    if param.requires_grad:\n",
        "        if name == \"layer2.2.conv1.weight\":\n",
        "          print(\"hit\")\n",
        "          break\n",
        "        param.requires_grad = False\n"
      ],
      "execution_count": 12,
      "outputs": [
        {
          "output_type": "stream",
          "text": [
            "hit\n"
          ],
          "name": "stdout"
        }
      ]
    },
    {
      "cell_type": "code",
      "metadata": {
        "id": "XIvsm0zxKX33"
      },
      "source": [
        "criterion = nn.CrossEntropyLoss()\n",
        "optimizer = torch.optim.SGD(model.parameters(),lr=0.001)"
      ],
      "execution_count": 13,
      "outputs": []
    },
    {
      "cell_type": "code",
      "metadata": {
        "colab": {
          "base_uri": "https://localhost:8080/",
          "height": 1000
        },
        "id": "iDdslroGLNrk",
        "outputId": "50aaa67a-f0be-4015-8a48-a6a9d03dd6f1"
      },
      "source": [
        "losses = []\n",
        "accuracies = []\n",
        "r_a = []\n",
        "r_l = []\n",
        "model.train()\n",
        "for epoch in range(n_epochs):\n",
        "  it = 0\n",
        "  for data, targets in dataloaders['train']:\n",
        "    data = data.cuda()\n",
        "    targets = targets.cuda()\n",
        "    # Generate predictions\n",
        "    \n",
        "    out = model(data)[0]\n",
        "    # Calculate loss\n",
        "    \n",
        "    loss = criterion(out, targets)\n",
        "\n",
        "    loss.backward()\n",
        "\n",
        "    accr = (torch.argmax(out,axis=1) == targets).detach().sum().item() / batch_size\n",
        "    accuracies.append(accr)\n",
        "    losses.append( loss.item() )\n",
        "    # Backpropagation\n",
        "    # Update model parameters\n",
        "    optimizer.step()\n",
        "    if it % 20 == 19:\n",
        "      r_a.append(sum(accuracies[-20:]) / 20)\n",
        "      r_l.append(sum(losses[-20:]) / 20)\n",
        "      print(epoch,it,r_a[-1],r_l[-1])\n",
        "    it += 1\n",
        "    del data\n",
        "    del targets\n",
        "    del out\n",
        "    del loss\n"
      ],
      "execution_count": 15,
      "outputs": [
        {
          "output_type": "stream",
          "text": [
            "0 19 0.018500000000000006 4.590619945526123\n",
            "0 39 0.06500000000000002 4.387163805961609\n",
            "0 59 0.1365 3.983835518360138\n",
            "0 79 0.2475 3.349146103858948\n",
            "0 99 0.31300000000000006 2.78591011762619\n",
            "0 119 0.37599999999999995 2.3327879667282105\n",
            "0 139 0.42650000000000016 2.1366084277629853\n",
            "0 159 0.453 1.9582117915153503\n",
            "0 179 0.4784999999999999 1.9427566468715667\n",
            "0 199 0.4795 1.9371739089488984\n",
            "0 219 0.47800000000000004 1.9668424248695373\n",
            "0 239 0.4805 1.9263873040676116\n",
            "0 259 0.4725 2.0360756635665895\n",
            "0 279 0.4765 2.075979006290436\n",
            "0 299 0.4665 2.112668699026108\n",
            "0 319 0.4439999999999998 2.183913213014603\n",
            "0 339 0.46399999999999997 2.1514665126800536\n",
            "0 359 0.4465 2.1277805864810944\n",
            "0 379 0.43450000000000005 2.1827175080776215\n",
            "0 399 0.42499999999999993 2.1883645057678223\n",
            "0 419 0.44200000000000006 2.160431480407715\n",
            "0 439 0.4165 2.2403416097164155\n",
            "0 459 0.44000000000000006 2.139099258184433\n",
            "0 479 0.41949999999999993 2.1597016990184783\n",
            "0 499 0.43 2.130974382162094\n",
            "1 19 0.45599999999999996 2.0213929533958437\n",
            "1 39 0.4275000000000001 2.1111070036888124\n",
            "1 59 0.462 2.082036370038986\n",
            "1 79 0.4465 2.1353794157505037\n",
            "1 99 0.4485 2.0358240246772765\n",
            "1 119 0.475 1.9697104930877685\n",
            "1 139 0.4535 2.0305532276630402\n",
            "1 159 0.4579999999999999 2.032801854610443\n",
            "1 179 0.4579999999999999 2.033331263065338\n",
            "1 199 0.454 2.0686165153980256\n",
            "1 219 0.4659999999999999 1.9556937336921691\n",
            "1 239 0.4705000000000001 2.1107473254203795\n",
            "1 259 0.47050000000000003 2.0494943499565124\n",
            "1 279 0.46399999999999997 2.084127950668335\n",
            "1 299 0.4675000000000001 2.048603081703186\n",
            "1 319 0.4744999999999999 1.9796628415584565\n",
            "1 339 0.4840000000000001 1.9550200700759888\n",
            "1 359 0.43850000000000017 2.099015933275223\n",
            "1 379 0.46150000000000013 2.0385437965393067\n",
            "1 399 0.4490000000000001 2.0480244278907778\n",
            "1 419 0.45099999999999996 2.047633481025696\n",
            "1 439 0.466 2.0406684935092927\n",
            "1 459 0.48600000000000004 2.033773511648178\n",
            "1 479 0.5145000000000001 1.8378938674926757\n",
            "1 499 0.471 1.9902775764465332\n",
            "2 19 0.49000000000000005 1.913953846693039\n",
            "2 39 0.507 1.8958931624889375\n",
            "2 59 0.48949999999999994 1.916299432516098\n",
            "2 79 0.48949999999999994 1.9882623553276062\n",
            "2 99 0.488 1.9049691200256347\n",
            "2 119 0.4755000000000001 1.9120742857456208\n",
            "2 139 0.5005 1.8922589004039765\n",
            "2 159 0.519 1.8271672666072845\n",
            "2 179 0.49350000000000005 1.9107480466365814\n",
            "2 199 0.5185000000000001 1.831853049993515\n",
            "2 219 0.5175 1.7713850140571594\n",
            "2 239 0.5090000000000001 1.8132440626621247\n",
            "2 259 0.5090000000000001 1.8580462098121644\n",
            "2 279 0.504 1.8205276668071746\n",
            "2 299 0.5294999999999999 1.7962356626987457\n",
            "2 319 0.527 1.7875990986824035\n",
            "2 339 0.526 1.7735116183757782\n",
            "2 359 0.5185000000000002 1.820391881465912\n",
            "2 379 0.5345000000000001 1.732738345861435\n",
            "2 399 0.5255 1.7353625655174256\n",
            "2 419 0.529 1.7301972568035127\n",
            "2 439 0.5390000000000001 1.659393209218979\n",
            "2 459 0.5334999999999999 1.7267628252506255\n",
            "2 479 0.5315 1.7424502491950988\n",
            "2 499 0.5355000000000002 1.7202318847179412\n",
            "3 19 0.5324999999999999 1.7175342738628387\n",
            "3 39 0.5155000000000001 1.7466491222381593\n",
            "3 59 0.5349999999999999 1.712376457452774\n",
            "3 79 0.5209999999999999 1.7454514265060426\n",
            "3 99 0.548 1.7191529512405395\n",
            "3 119 0.5345 1.6803922533988953\n",
            "3 139 0.5475 1.6564352929592132\n",
            "3 159 0.537 1.6671823263168335\n",
            "3 179 0.564 1.5562516570091247\n",
            "3 199 0.5595 1.6200348913669587\n",
            "3 219 0.563 1.571783196926117\n",
            "3 239 0.5275 1.67780442237854\n",
            "3 259 0.5365000000000002 1.663535326719284\n",
            "3 279 0.572 1.5773540377616881\n",
            "3 299 0.538 1.6777176558971405\n",
            "3 319 0.5495000000000001 1.5988621473312379\n",
            "3 339 0.5365 1.6628982841968536\n",
            "3 359 0.5645 1.5191193580627442\n",
            "3 379 0.571 1.56571786403656\n",
            "3 399 0.5784999999999999 1.5155022084712981\n",
            "3 419 0.558 1.583605909347534\n",
            "3 439 0.5570000000000002 1.5789178788661957\n",
            "3 459 0.5719999999999998 1.565388947725296\n",
            "3 479 0.5505 1.6225343465805053\n",
            "3 499 0.6010000000000001 1.5007974624633789\n",
            "4 19 0.5945 1.4561756789684295\n"
          ],
          "name": "stdout"
        },
        {
          "output_type": "error",
          "ename": "KeyboardInterrupt",
          "evalue": "ignored",
          "traceback": [
            "\u001b[0;31m---------------------------------------------------------------------------\u001b[0m",
            "\u001b[0;31mKeyboardInterrupt\u001b[0m                         Traceback (most recent call last)",
            "\u001b[0;32m<ipython-input-15-29b4aad39a0e>\u001b[0m in \u001b[0;36m<module>\u001b[0;34m()\u001b[0m\n\u001b[1;32m     18\u001b[0m     \u001b[0mloss\u001b[0m\u001b[0;34m.\u001b[0m\u001b[0mbackward\u001b[0m\u001b[0;34m(\u001b[0m\u001b[0;34m)\u001b[0m\u001b[0;34m\u001b[0m\u001b[0;34m\u001b[0m\u001b[0m\n\u001b[1;32m     19\u001b[0m \u001b[0;34m\u001b[0m\u001b[0m\n\u001b[0;32m---> 20\u001b[0;31m     \u001b[0maccr\u001b[0m \u001b[0;34m=\u001b[0m \u001b[0;34m(\u001b[0m\u001b[0mtorch\u001b[0m\u001b[0;34m.\u001b[0m\u001b[0margmax\u001b[0m\u001b[0;34m(\u001b[0m\u001b[0mout\u001b[0m\u001b[0;34m,\u001b[0m\u001b[0maxis\u001b[0m\u001b[0;34m=\u001b[0m\u001b[0;36m1\u001b[0m\u001b[0;34m)\u001b[0m \u001b[0;34m==\u001b[0m \u001b[0mtargets\u001b[0m\u001b[0;34m)\u001b[0m\u001b[0;34m.\u001b[0m\u001b[0mdetach\u001b[0m\u001b[0;34m(\u001b[0m\u001b[0;34m)\u001b[0m\u001b[0;34m.\u001b[0m\u001b[0msum\u001b[0m\u001b[0;34m(\u001b[0m\u001b[0;34m)\u001b[0m\u001b[0;34m.\u001b[0m\u001b[0mitem\u001b[0m\u001b[0;34m(\u001b[0m\u001b[0;34m)\u001b[0m \u001b[0;34m/\u001b[0m \u001b[0mbatch_size\u001b[0m\u001b[0;34m\u001b[0m\u001b[0;34m\u001b[0m\u001b[0m\n\u001b[0m\u001b[1;32m     21\u001b[0m     \u001b[0maccuracies\u001b[0m\u001b[0;34m.\u001b[0m\u001b[0mappend\u001b[0m\u001b[0;34m(\u001b[0m\u001b[0maccr\u001b[0m\u001b[0;34m)\u001b[0m\u001b[0;34m\u001b[0m\u001b[0;34m\u001b[0m\u001b[0m\n\u001b[1;32m     22\u001b[0m     \u001b[0mlosses\u001b[0m\u001b[0;34m.\u001b[0m\u001b[0mappend\u001b[0m\u001b[0;34m(\u001b[0m \u001b[0mloss\u001b[0m\u001b[0;34m.\u001b[0m\u001b[0mitem\u001b[0m\u001b[0;34m(\u001b[0m\u001b[0;34m)\u001b[0m \u001b[0;34m)\u001b[0m\u001b[0;34m\u001b[0m\u001b[0;34m\u001b[0m\u001b[0m\n",
            "\u001b[0;31mKeyboardInterrupt\u001b[0m: "
          ]
        }
      ]
    },
    {
      "cell_type": "code",
      "metadata": {
        "id": "mabMBTmZBJhw"
      },
      "source": [
        "def moving_average(x, w):\n",
        "    return (np.convolve(x, np.ones(w), 'valid') / w)[::w]"
      ],
      "execution_count": 16,
      "outputs": []
    },
    {
      "cell_type": "code",
      "metadata": {
        "colab": {
          "base_uri": "https://localhost:8080/",
          "height": 590
        },
        "id": "Mkdpve9MCFbj",
        "outputId": "3dcb59f5-3048-4e0c-97e3-e0d81ff509fd"
      },
      "source": [
        "plt.title('Accuracy During Training')\n",
        "plt.ylabel('Accuracy')\n",
        "plt.xlabel('Per 20 Batch')\n",
        "plt.plot(r_a,marker='o')\n",
        "plt.show()\n",
        "plt.title('Mean Loss During Training')\n",
        "plt.ylabel('Loss')\n",
        "plt.xlabel('Per 20 Batch')\n",
        "plt.plot(r_l,marker='o')"
      ],
      "execution_count": 17,
      "outputs": [
        {
          "output_type": "display_data",
          "data": {
            "image/png": "[encoded data removed]",
            "text/plain": [
              "<Figure size 432x288 with 1 Axes>"
            ]
          },
          "metadata": {
            "tags": [],
            "needs_background": "light"
          }
        },
        {
          "output_type": "execute_result",
          "data": {
            "text/plain": [
              "[<matplotlib.lines.Line2D at 0x7f6bca54ea10>]"
            ]
          },
          "metadata": {
            "tags": []
          },
          "execution_count": 17
        },
        {
          "output_type": "display_data",
          "data": {
            "image/png": "[encoded data removed]",
            "text/plain": [
              "<Figure size 432x288 with 1 Axes>"
            ]
          },
          "metadata": {
            "tags": [],
            "needs_background": "light"
          }
        }
      ]
    },
    {
      "cell_type": "code",
      "metadata": {
        "colab": {
          "base_uri": "https://localhost:8080/",
          "height": 590
        },
        "id": "XSUU8BEeBUWN",
        "outputId": "759c8093-93c1-4cad-a204-3b51b4297b5e"
      },
      "source": [
        "plt.title('Accuracy During Training')\n",
        "plt.ylabel('Accuracy')\n",
        "plt.xlabel('Per Epoch')\n",
        "plt.plot(moving_average(r_a,30),marker='o')\n",
        "plt.show()\n",
        "plt.title('Mean Loss During Training')\n",
        "plt.ylabel('Loss')\n",
        "plt.xlabel('Per Epoch')\n",
        "plt.plot(moving_average(r_l,30),marker='o')"
      ],
      "execution_count": 18,
      "outputs": [
        {
          "output_type": "display_data",
          "data": {
            "image/png": "[encoded data removed]",
            "text/plain": [
              "<Figure size 432x288 with 1 Axes>"
            ]
          },
          "metadata": {
            "tags": [],
            "needs_background": "light"
          }
        },
        {
          "output_type": "execute_result",
          "data": {
            "text/plain": [
              "[<matplotlib.lines.Line2D at 0x7f6bca61b490>]"
            ]
          },
          "metadata": {
            "tags": []
          },
          "execution_count": 18
        },
        {
          "output_type": "display_data",
          "data": {
            "image/png": "[encoded data removed]",
            "text/plain": [
              "<Figure size 432x288 with 1 Axes>"
            ]
          },
          "metadata": {
            "tags": [],
            "needs_background": "light"
          }
        }
      ]
    },
    {
      "cell_type": "code",
      "metadata": {
        "colab": {
          "base_uri": "https://localhost:8080/"
        },
        "id": "LoUHZ3WjBYvo",
        "outputId": "fb1441af-8633-4ed2-8301-6bc70143570b"
      },
      "source": [
        "model.eval()\n",
        "\n",
        "cnt = 0\n",
        "c_accr = 0\n",
        "for data, targets in dataloaders['test']:\n",
        "  # Generate predictions\n",
        "  data = data.cuda()\n",
        "  targets = targets.cuda()\n",
        "  out = model(data)[0]\n",
        "\n",
        "\n",
        "  accr = (torch.argmax(out,axis=1) == targets).sum().item() / batch_size\n",
        "  c_accr += (accr)\n",
        "\n",
        "  cnt+=1\n",
        "  del data\n",
        "  del targets\n",
        "  del out\n",
        "c_accr /= cnt\n",
        "\n",
        "print(c_accr) #Model Accuracy"
      ],
      "execution_count": 19,
      "outputs": [
        {
          "output_type": "stream",
          "text": [
            "0.5716\n"
          ],
          "name": "stdout"
        }
      ]
    },
    {
      "cell_type": "code",
      "metadata": {
        "colab": {
          "base_uri": "https://localhost:8080/"
        },
        "id": "9Xl3Dcf7CqUa",
        "outputId": "57dd885e-9b97-4ab4-c64e-d06d42ee4f53"
      },
      "source": [
        "from google.colab import files,drive\n",
        "drive.mount('/content/drive')"
      ],
      "execution_count": 20,
      "outputs": [
        {
          "output_type": "stream",
          "text": [
            "Drive already mounted at /content/drive; to attempt to forcibly remount, call drive.mount(\"/content/drive\", force_remount=True).\n"
          ],
          "name": "stdout"
        }
      ]
    },
    {
      "cell_type": "code",
      "metadata": {
        "id": "Ax1ccGIuC2Uo"
      },
      "source": [
        "torch.save(model.state_dict(),open(\"./drive/MyDrive/NN/TransferTrainedResNet.pt\",\"wb\"))"
      ],
      "execution_count": 21,
      "outputs": []
    },
    {
      "cell_type": "code",
      "metadata": {
        "colab": {
          "base_uri": "https://localhost:8080/"
        },
        "id": "akK5EtLaDJj5",
        "outputId": "8db742e5-0999-4050-a733-286f1e8e85ab"
      },
      "source": [
        "!ls ./drive/MyDrive/NN/"
      ],
      "execution_count": 22,
      "outputs": [
        {
          "output_type": "stream",
          "text": [
            "AlexNet.pt  ResNet.pt  tf_learning.pt  TransferTrainedResNet.pt  VGGNet.pt\n"
          ],
          "name": "stdout"
        }
      ]
    }
  ]
}
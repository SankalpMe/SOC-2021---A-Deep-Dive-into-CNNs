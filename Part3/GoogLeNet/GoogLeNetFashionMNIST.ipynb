{
  "nbformat": 4,
  "nbformat_minor": 0,
  "metadata": {
    "colab": {
      "name": "GoogLeNetFashionMNIST.ipynb",
      "provenance": [],
      "collapsed_sections": []
    },
    "kernelspec": {
      "name": "python3",
      "display_name": "Python 3"
    },
    "language_info": {
      "name": "python"
    },
    "accelerator": "GPU"
  },
  "cells": [
    {
      "cell_type": "code",
      "metadata": {
        "id": "M1PSVuTtx8zG"
      },
      "source": [
        "import torch.nn as nn\n",
        "import torchvision\n",
        "from torchvision import transforms\n",
        "import torch\n",
        "from matplotlib import pyplot as plt\n",
        "import numpy as np\n",
        "import torchvision.models as models\n",
        "from torchvision import datasets\n",
        "from torch.utils.data import DataLoader\n",
        "import torch.nn.functional as F"
      ],
      "execution_count": 1,
      "outputs": []
    },
    {
      "cell_type": "code",
      "metadata": {
        "id": "2GacIS7Fhlkc"
      },
      "source": [
        "batch_size = 100\n",
        "n_classes = 10\n",
        "n_epochs = 100"
      ],
      "execution_count": 53,
      "outputs": []
    },
    {
      "cell_type": "code",
      "metadata": {
        "id": "R0YRTDJXyc-7"
      },
      "source": [
        "# Source: \"https://github.com/bentrevett/pytorch-image-classification/blob/master/2_lenet.ipynb\"\n",
        "\n",
        "\n",
        "class LeNet(nn.Module):\n",
        "    def __init__(self, output_dim):\n",
        "        super().__init__()\n",
        "\n",
        "        self.conv1 = nn.Conv2d(in_channels = 1, \n",
        "                               out_channels = 6, \n",
        "                               kernel_size = 5)\n",
        "        \n",
        "        self.conv2 = nn.Conv2d(in_channels = 6, \n",
        "                               out_channels = 16, \n",
        "                               kernel_size = 5)\n",
        "        \n",
        "        self.fc_1 = nn.Linear(16 * 4 * 4, 120)\n",
        "        self.fc_2 = nn.Linear(120, 84)\n",
        "        self.fc_3 = nn.Linear(84, output_dim)\n",
        "\n",
        "    def forward(self, x):\n",
        "\n",
        "        #x = [batch size, 1, 28, 28]\n",
        "        \n",
        "        x = self.conv1(x)\n",
        "        \n",
        "        #x = [batch size, 6, 24, 24]\n",
        "        \n",
        "        x = F.max_pool2d(x, kernel_size = 2)\n",
        "        \n",
        "        #x = [batch size, 6, 12, 12]\n",
        "        \n",
        "        x = F.relu(x)\n",
        "        \n",
        "        x = self.conv2(x)\n",
        "        \n",
        "        #x = [batch size, 16, 8, 8]\n",
        "        \n",
        "        x = F.max_pool2d(x, kernel_size = 2)\n",
        "        \n",
        "        #x = [batch size, 16, 16, 16]\n",
        "        \n",
        "        x = F.relu(x)\n",
        "        x = F.adaptive_avg_pool2d(x,output_size=4)\n",
        "        x = x.view(x.shape[0], -1)\n",
        "        \n",
        " \n",
        "        \n",
        "        h = x\n",
        "        \n",
        "        x = self.fc_1(x)\n",
        "        \n",
        "\n",
        "        x = F.relu(x)\n",
        "\n",
        "        x = self.fc_2(x)\n",
        "        \n",
        "\n",
        "        \n",
        "        x = F.relu(x)\n",
        "\n",
        "        x = self.fc_3(x)\n",
        "\n",
        "\n",
        "        \n",
        "        return x"
      ],
      "execution_count": 74,
      "outputs": []
    },
    {
      "cell_type": "code",
      "metadata": {
        "id": "ULAyUg_yyi6X"
      },
      "source": [
        "\n",
        "\n",
        "def lenet(output_dim=n_classes):\n",
        "    model = LeNet(output_dim)\n",
        "    if(torch.cuda.is_available()):\n",
        "      model = model.cuda()\n",
        "    return model"
      ],
      "execution_count": 75,
      "outputs": []
    },
    {
      "cell_type": "code",
      "metadata": {
        "id": "qXQAU7_sFJoI"
      },
      "source": [
        "image_transforms = {\n",
        "    'train':\n",
        "    transforms.Compose([\n",
        "        transforms.RandomResizedCrop(size=256, scale=(0.8, 1.0)),\n",
        "        transforms.RandomRotation(degrees=15),\n",
        "        transforms.ColorJitter(),\n",
        "        transforms.RandomHorizontalFlip(),\n",
        "        transforms.CenterCrop(size=224),  # Image net standards\n",
        "        transforms.ToTensor(),\n",
        "    ]),\n",
        "\n",
        "    'test':\n",
        "    transforms.Compose([\n",
        "        transforms.Resize(size=256),\n",
        "        transforms.CenterCrop(size=224),\n",
        "        transforms.ToTensor(),\n",
        "    ]),\n",
        "}\n",
        "\n",
        "labels_map = {\n",
        "    0: \"T-Shirt\",\n",
        "    1: \"Trouser\",\n",
        "    2: \"Pullover\",\n",
        "    3: \"Dress\",\n",
        "    4: \"Coat\",\n",
        "    5: \"Sandal\",\n",
        "    6: \"Shirt\",\n",
        "    7: \"Sneaker\",\n",
        "    8: \"Bag\",\n",
        "    9: \"Ankle Boot\",\n",
        "}"
      ],
      "execution_count": 76,
      "outputs": []
    },
    {
      "cell_type": "code",
      "metadata": {
        "id": "TNmlUxBeGhTz"
      },
      "source": [
        "dataset = {\n",
        "    'train': datasets.FashionMNIST(\n",
        "      root=\"data\",\n",
        "      #train=True,\n",
        "      download=True,\n",
        "      transform=image_transforms['train'],\n",
        "    ),\n",
        "    'test': datasets.FashionMNIST(\n",
        "      root=\"data\",\n",
        "      train=False,\n",
        "      download=True,\n",
        "      transform=image_transforms['test'],\n",
        "    )\n",
        "}\n",
        "\n",
        "# Dataloader iterators, make sure to shuffle\n",
        "dataloaders = {\n",
        "    'train': DataLoader(dataset['train'], batch_size=batch_size,pin_memory=True, shuffle=True),\n",
        "    'test': DataLoader(dataset['test'], batch_size=batch_size, shuffle=True)\n",
        "}"
      ],
      "execution_count": 77,
      "outputs": []
    },
    {
      "cell_type": "code",
      "metadata": {
        "id": "_QgxNuhOjFAI"
      },
      "source": [
        "model = lenet(n_classes)"
      ],
      "execution_count": 78,
      "outputs": []
    },
    {
      "cell_type": "code",
      "metadata": {
        "id": "ywPFUQ8UsSbJ"
      },
      "source": [
        "for name, param in model.named_parameters():\n",
        "    param.requires_grad = True\n"
      ],
      "execution_count": 68,
      "outputs": []
    },
    {
      "cell_type": "code",
      "metadata": {
        "id": "gWdztK2Li3ML"
      },
      "source": [
        "# for name, param in model.named_parameters():\n",
        "#     if param.requires_grad:\n",
        "#         if name == \"layer2.2.conv1.weight\":\n",
        "#           print(\"hit\")\n",
        "#           break\n",
        "#         param.requires_grad = False\n"
      ],
      "execution_count": 69,
      "outputs": []
    },
    {
      "cell_type": "code",
      "metadata": {
        "id": "XIvsm0zxKX33"
      },
      "source": [
        "criterion = nn.CrossEntropyLoss()\n",
        "optimizer = torch.optim.RMSprop(model.parameters())"
      ],
      "execution_count": 92,
      "outputs": []
    },
    {
      "cell_type": "code",
      "metadata": {
        "colab": {
          "base_uri": "https://localhost:8080/",
          "height": 1000
        },
        "id": "iDdslroGLNrk",
        "outputId": "85515c1e-e0fb-4905-dce7-9a155202ecd3"
      },
      "source": [
        "losses = []\n",
        "accuracies = []\n",
        "r_a = []\n",
        "r_l = []\n",
        "model.train()\n",
        "for epoch in range(n_epochs):\n",
        "  it = 0\n",
        "  for data, targets in dataloaders['train']:\n",
        "    if torch.cuda.is_available():\n",
        "      data = data.cuda()\n",
        "      targets = targets.cuda()\n",
        "    # Generate predictions\n",
        "    \n",
        "    out = model(data)\n",
        "    # Calculate loss\n",
        "    \n",
        "    loss = criterion(out, targets)\n",
        "\n",
        "    loss.backward()\n",
        "\n",
        "    accr = (torch.argmax(out,axis=1) == targets).detach().sum().item() / batch_size\n",
        "    accuracies.append(accr)\n",
        "    losses.append( loss.item() )\n",
        "    # Backpropagation\n",
        "    # Update model parameters\n",
        "    optimizer.step()\n",
        "    if it % 20 == 19:\n",
        "      r_a.append(sum(accuracies[-20:]) / 20)\n",
        "      r_l.append(sum(losses[-20:]) / 20)\n",
        "      print(epoch,it,r_a[-1],r_l[-1])\n",
        "    it += 1\n",
        "    del data\n",
        "    del targets\n",
        "    del out\n",
        "    del loss\n"
      ],
      "execution_count": 93,
      "outputs": [
        {
          "output_type": "stream",
          "text": [
            "0 19 0.10250000000000004 2.417792558670044\n",
            "0 39 0.101 2.4049545764923095\n",
            "0 59 0.09950000000000002 2.385301744937897\n",
            "0 79 0.0955 2.3957066178321837\n",
            "0 99 0.09700000000000002 2.3736695766448976\n",
            "0 119 0.09950000000000003 2.379574179649353\n",
            "0 139 0.0995 2.352410113811493\n",
            "0 159 0.10000000000000005 2.350742757320404\n",
            "0 179 0.1025 2.333455002307892\n",
            "0 199 0.09650000000000002 2.331135165691376\n",
            "0 219 0.1095 2.3247090697288515\n",
            "0 239 0.09250000000000001 2.3240851283073427\n",
            "0 259 0.095 2.3304975986480714\n",
            "0 279 0.09800000000000002 2.317626881599426\n",
            "0 299 0.08650000000000004 2.323070299625397\n",
            "0 319 0.09800000000000003 2.311226177215576\n",
            "0 339 0.10450000000000004 2.308822476863861\n",
            "0 359 0.10600000000000002 2.308436667919159\n",
            "0 379 0.10350000000000001 2.3170008420944215\n",
            "0 399 0.09900000000000005 2.3110950350761414\n",
            "0 419 0.11450000000000002 2.306582975387573\n",
            "0 439 0.09600000000000002 2.305534636974335\n",
            "0 459 0.08850000000000002 2.3084678292274474\n",
            "0 479 0.09700000000000002 2.306621277332306\n",
            "0 499 0.09600000000000002 2.306247317790985\n",
            "0 519 0.10350000000000001 2.3041639804840086\n",
            "0 539 0.10300000000000002 2.3049120783805845\n",
            "0 559 0.10350000000000004 2.304653263092041\n",
            "0 579 0.09900000000000002 2.303456115722656\n",
            "0 599 0.08900000000000002 2.3046876311302187\n",
            "1 19 0.10250000000000001 2.3030190467834473\n",
            "1 39 0.10450000000000004 2.3034284114837646\n",
            "1 59 0.10700000000000001 2.3023675084114075\n",
            "1 79 0.09600000000000003 2.3027520537376405\n",
            "1 99 0.10400000000000002 2.3025309324264525\n",
            "1 119 0.09950000000000003 2.3022722363471986\n",
            "1 139 0.09750000000000003 2.302809989452362\n",
            "1 159 0.09450000000000003 2.3022568464279174\n",
            "1 179 0.10000000000000005 2.302705442905426\n",
            "1 199 0.094 2.30301947593689\n",
            "1 219 0.10400000000000001 2.303228974342346\n",
            "1 239 0.10250000000000001 2.303206133842468\n",
            "1 259 0.0985 2.3035433530807494\n",
            "1 279 0.09250000000000001 2.3031731724739073\n",
            "1 299 0.09150000000000003 2.302966034412384\n",
            "1 319 0.11800000000000004 2.3025039076805114\n",
            "1 339 0.09 2.3030940294265747\n",
            "1 359 0.09550000000000002 2.302919697761536\n",
            "1 379 0.11100000000000003 2.302477407455444\n",
            "1 399 0.08700000000000001 2.303276741504669\n",
            "1 419 0.09100000000000003 2.3029964327812196\n",
            "1 439 0.10550000000000001 2.3024698376655577\n",
            "1 459 0.10100000000000002 2.3023476243019103\n",
            "1 479 0.09350000000000004 2.303036630153656\n",
            "1 499 0.097 2.3027865529060363\n",
            "1 519 0.10300000000000002 2.30269136428833\n",
            "1 539 0.09650000000000002 2.302932345867157\n",
            "1 559 0.08900000000000004 2.3028403520584106\n",
            "1 579 0.10000000000000002 2.3030418515205384\n",
            "1 599 0.09250000000000003 2.3031820178031923\n",
            "2 19 0.10300000000000005 2.302376961708069\n",
            "2 39 0.09800000000000003 2.302877402305603\n",
            "2 59 0.10450000000000001 2.3030131459236145\n",
            "2 79 0.09450000000000003 2.302595067024231\n",
            "2 99 0.10500000000000001 2.302904784679413\n",
            "2 119 0.09750000000000003 2.3029001235961912\n",
            "2 139 0.09200000000000001 2.303099000453949\n",
            "2 159 0.08850000000000002 2.302918291091919\n",
            "2 179 0.09500000000000001 2.302773487567902\n",
            "2 199 0.10000000000000002 2.3024628281593325\n",
            "2 219 0.1005 2.302281606197357\n",
            "2 239 0.09850000000000005 2.302760648727417\n",
            "2 259 0.10650000000000004 2.302536165714264\n",
            "2 279 0.10700000000000001 2.3023929357528687\n"
          ],
          "name": "stdout"
        },
        {
          "output_type": "error",
          "ename": "KeyboardInterrupt",
          "evalue": "ignored",
          "traceback": [
            "\u001b[0;31m---------------------------------------------------------------------------\u001b[0m",
            "\u001b[0;31mKeyboardInterrupt\u001b[0m                         Traceback (most recent call last)",
            "\u001b[0;32m<ipython-input-93-ac054a4eb7c4>\u001b[0m in \u001b[0;36m<module>\u001b[0;34m()\u001b[0m\n\u001b[1;32m     19\u001b[0m     \u001b[0mloss\u001b[0m\u001b[0;34m.\u001b[0m\u001b[0mbackward\u001b[0m\u001b[0;34m(\u001b[0m\u001b[0;34m)\u001b[0m\u001b[0;34m\u001b[0m\u001b[0;34m\u001b[0m\u001b[0m\n\u001b[1;32m     20\u001b[0m \u001b[0;34m\u001b[0m\u001b[0m\n\u001b[0;32m---> 21\u001b[0;31m     \u001b[0maccr\u001b[0m \u001b[0;34m=\u001b[0m \u001b[0;34m(\u001b[0m\u001b[0mtorch\u001b[0m\u001b[0;34m.\u001b[0m\u001b[0margmax\u001b[0m\u001b[0;34m(\u001b[0m\u001b[0mout\u001b[0m\u001b[0;34m,\u001b[0m\u001b[0maxis\u001b[0m\u001b[0;34m=\u001b[0m\u001b[0;36m1\u001b[0m\u001b[0;34m)\u001b[0m \u001b[0;34m==\u001b[0m \u001b[0mtargets\u001b[0m\u001b[0;34m)\u001b[0m\u001b[0;34m.\u001b[0m\u001b[0mdetach\u001b[0m\u001b[0;34m(\u001b[0m\u001b[0;34m)\u001b[0m\u001b[0;34m.\u001b[0m\u001b[0msum\u001b[0m\u001b[0;34m(\u001b[0m\u001b[0;34m)\u001b[0m\u001b[0;34m.\u001b[0m\u001b[0mitem\u001b[0m\u001b[0;34m(\u001b[0m\u001b[0;34m)\u001b[0m \u001b[0;34m/\u001b[0m \u001b[0mbatch_size\u001b[0m\u001b[0;34m\u001b[0m\u001b[0;34m\u001b[0m\u001b[0m\n\u001b[0m\u001b[1;32m     22\u001b[0m     \u001b[0maccuracies\u001b[0m\u001b[0;34m.\u001b[0m\u001b[0mappend\u001b[0m\u001b[0;34m(\u001b[0m\u001b[0maccr\u001b[0m\u001b[0;34m)\u001b[0m\u001b[0;34m\u001b[0m\u001b[0;34m\u001b[0m\u001b[0m\n\u001b[1;32m     23\u001b[0m     \u001b[0mlosses\u001b[0m\u001b[0;34m.\u001b[0m\u001b[0mappend\u001b[0m\u001b[0;34m(\u001b[0m \u001b[0mloss\u001b[0m\u001b[0;34m.\u001b[0m\u001b[0mitem\u001b[0m\u001b[0;34m(\u001b[0m\u001b[0;34m)\u001b[0m \u001b[0;34m)\u001b[0m\u001b[0;34m\u001b[0m\u001b[0;34m\u001b[0m\u001b[0m\n",
            "\u001b[0;31mKeyboardInterrupt\u001b[0m: "
          ]
        }
      ]
    },
    {
      "cell_type": "code",
      "metadata": {
        "id": "mabMBTmZBJhw"
      },
      "source": [
        "def moving_average(x, w):\n",
        "    return (np.convolve(x, np.ones(w), 'valid') / w)[::w]"
      ],
      "execution_count": 94,
      "outputs": []
    },
    {
      "cell_type": "code",
      "metadata": {
        "id": "Mkdpve9MCFbj",
        "colab": {
          "base_uri": "https://localhost:8080/",
          "height": 590
        },
        "outputId": "28ee51aa-3530-484b-976d-8b76191ab1a1"
      },
      "source": [
        "plt.title('Accuracy During Training')\n",
        "plt.ylabel('Accuracy')\n",
        "plt.xlabel('Per 20 Batch')\n",
        "plt.plot(r_a,marker='o')\n",
        "plt.show()\n",
        "plt.title('Mean Loss During Training')\n",
        "plt.ylabel('Loss')\n",
        "plt.xlabel('Per 20 Batch')\n",
        "plt.plot(r_l,marker='o')"
      ],
      "execution_count": 95,
      "outputs": [
        {
          "output_type": "display_data",
          "data": {
            "image/png": "[encoded data removed]",
            "text/plain": [
              "<Figure size 432x288 with 1 Axes>"
            ]
          },
          "metadata": {
            "tags": [],
            "needs_background": "light"
          }
        },
        {
          "output_type": "execute_result",
          "data": {
            "text/plain": [
              "[<matplotlib.lines.Line2D at 0x7f248ac63450>]"
            ]
          },
          "metadata": {
            "tags": []
          },
          "execution_count": 95
        },
        {
          "output_type": "display_data",
          "data": {
            "image/png": "[encoded data removed]",
            "text/plain": [
              "<Figure size 432x288 with 1 Axes>"
            ]
          },
          "metadata": {
            "tags": [],
            "needs_background": "light"
          }
        }
      ]
    },
    {
      "cell_type": "code",
      "metadata": {
        "id": "LoUHZ3WjBYvo",
        "colab": {
          "base_uri": "https://localhost:8080/"
        },
        "outputId": "2f8932e3-05c3-4380-b7bc-c4a94d256d4b"
      },
      "source": [
        "model.eval()\n",
        "\n",
        "cnt = 0\n",
        "c_accr = 0\n",
        "for data, targets in dataloaders['test']:\n",
        "  # Generate predictions\n",
        "  data = data.cuda()\n",
        "  targets = targets.cuda()\n",
        "  out = model(data)\n",
        "\n",
        "\n",
        "  accr = (torch.argmax(out,axis=1) == targets).sum().item() / batch_size\n",
        "  c_accr += (accr)\n",
        "\n",
        "  cnt+=1\n",
        "  del data\n",
        "  del targets\n",
        "  del out\n",
        "c_accr /= cnt\n",
        "\n",
        "print(c_accr) #Model Accuracy"
      ],
      "execution_count": 97,
      "outputs": [
        {
          "output_type": "stream",
          "text": [
            "0.09999999999999996\n"
          ],
          "name": "stdout"
        }
      ]
    },
    {
      "cell_type": "code",
      "metadata": {
        "id": "cKYBLMDdxOFr"
      },
      "source": [
        ""
      ],
      "execution_count": null,
      "outputs": []
    }
  ]
}
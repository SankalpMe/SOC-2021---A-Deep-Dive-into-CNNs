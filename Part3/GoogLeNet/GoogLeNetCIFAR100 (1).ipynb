{
  "nbformat": 4,
  "nbformat_minor": 0,
  "metadata": {
    "colab": {
      "name": "GoogLeNetCIFAR100.ipynb",
      "provenance": [],
      "collapsed_sections": []
    },
    "kernelspec": {
      "name": "python3",
      "display_name": "Python 3"
    },
    "language_info": {
      "name": "python"
    },
    "accelerator": "GPU"
  },
  "cells": [
    {
      "cell_type": "code",
      "metadata": {
        "id": "M1PSVuTtx8zG"
      },
      "source": [
        "import torch.nn as nn\n",
        "import torchvision\n",
        "from torchvision import transforms\n",
        "import torch\n",
        "from matplotlib import pyplot as plt\n",
        "import numpy as np\n",
        "import torchvision.models as models\n",
        "from torchvision import datasets\n",
        "from torch.utils.data import DataLoader\n",
        "import torch.nn.functional as F"
      ],
      "execution_count": 1,
      "outputs": []
    },
    {
      "cell_type": "code",
      "metadata": {
        "id": "2GacIS7Fhlkc"
      },
      "source": [
        "batch_size = 100\n",
        "n_classes = 100\n",
        "n_epochs = 100"
      ],
      "execution_count": 2,
      "outputs": []
    },
    {
      "cell_type": "code",
      "metadata": {
        "id": "R0YRTDJXyc-7"
      },
      "source": [
        "# Source: \"https://github.com/bentrevett/pytorch-image-classification/blob/master/2_lenet.ipynb\"\n",
        "\n",
        "\n",
        "class LeNet(nn.Module):\n",
        "    def __init__(self, output_dim):\n",
        "        super().__init__()\n",
        "\n",
        "        self.conv1 = nn.Conv2d(in_channels = 3, \n",
        "                               out_channels = 6, \n",
        "                               kernel_size = 5)\n",
        "        \n",
        "        self.conv2 = nn.Conv2d(in_channels = 6, \n",
        "                               out_channels = 16, \n",
        "                               kernel_size = 5)\n",
        "        \n",
        "        self.fc_1 = nn.Linear(16 * 16 * 16, 240)\n",
        "        self.fc_2 = nn.Linear(240, 84)\n",
        "        self.fc_3 = nn.Linear(84, output_dim)\n",
        "\n",
        "    def forward(self, x):\n",
        "\n",
        "        #x = [batch size, 1, 28, 28]\n",
        "        \n",
        "        x = self.conv1(x)\n",
        "        \n",
        "        #x = [batch size, 6, 24, 24]\n",
        "        \n",
        "        x = F.max_pool2d(x, kernel_size = 2)\n",
        "        \n",
        "        #x = [batch size, 6, 12, 12]\n",
        "        \n",
        "        x = F.relu(x)\n",
        "        \n",
        "        x = self.conv2(x)\n",
        "        \n",
        "        #x = [batch size, 16, 8, 8]\n",
        "        \n",
        "        x = F.max_pool2d(x, kernel_size = 2)\n",
        "        \n",
        "        #x = [batch size, 16, 16, 16]\n",
        "        \n",
        "        x = F.relu(x)\n",
        "        x = F.adaptive_avg_pool2d(x,output_size=16)\n",
        "        x = x.view(x.shape[0], -1)\n",
        "        \n",
        " \n",
        "        \n",
        "        h = x\n",
        "        \n",
        "        x = self.fc_1(x)\n",
        "        \n",
        "\n",
        "        x = F.relu(x)\n",
        "\n",
        "        x = self.fc_2(x)\n",
        "        \n",
        "\n",
        "        \n",
        "        x = F.relu(x)\n",
        "\n",
        "        x = self.fc_3(x)\n",
        "\n",
        "\n",
        "        \n",
        "        return x"
      ],
      "execution_count": 33,
      "outputs": []
    },
    {
      "cell_type": "code",
      "metadata": {
        "id": "ULAyUg_yyi6X"
      },
      "source": [
        "\n",
        "\n",
        "def lenet(output_dim=n_classes):\n",
        "    model = LeNet(output_dim)\n",
        "    if(torch.cuda.is_available()):\n",
        "      model = model.cuda()\n",
        "    return model"
      ],
      "execution_count": 34,
      "outputs": []
    },
    {
      "cell_type": "code",
      "metadata": {
        "id": "qXQAU7_sFJoI"
      },
      "source": [
        "image_transforms = {\n",
        "    'train':\n",
        "    transforms.Compose([\n",
        "        transforms.RandomResizedCrop(size=256, scale=(0.8, 1.0)),\n",
        "        transforms.RandomRotation(degrees=15),\n",
        "        transforms.ColorJitter(),\n",
        "        transforms.RandomHorizontalFlip(),\n",
        "        transforms.CenterCrop(size=224),  # Image net standards\n",
        "        transforms.ToTensor(),\n",
        "        transforms.Normalize([0.485, 0.456, 0.406],\n",
        "                             [0.229, 0.224, 0.225])  # Imagenet standards\n",
        "    ]),\n",
        "\n",
        "    'test':\n",
        "    transforms.Compose([\n",
        "        transforms.Resize(size=256),\n",
        "        transforms.CenterCrop(size=224),\n",
        "        transforms.ToTensor(),\n",
        "        transforms.Normalize([0.485, 0.456, 0.406], [0.229, 0.224, 0.225])\n",
        "    ]),\n",
        "}\n",
        "\n",
        "labels_map = {\n",
        "    0: \"T-Shirt\",\n",
        "    1: \"Trouser\",\n",
        "    2: \"Pullover\",\n",
        "    3: \"Dress\",\n",
        "    4: \"Coat\",\n",
        "    5: \"Sandal\",\n",
        "    6: \"Shirt\",\n",
        "    7: \"Sneaker\",\n",
        "    8: \"Bag\",\n",
        "    9: \"Ankle Boot\",\n",
        "}"
      ],
      "execution_count": 35,
      "outputs": []
    },
    {
      "cell_type": "code",
      "metadata": {
        "id": "TNmlUxBeGhTz",
        "colab": {
          "base_uri": "https://localhost:8080/"
        },
        "outputId": "0212dbc3-6284-4256-d92b-48dfb0a28a51"
      },
      "source": [
        "dataset = {\n",
        "    'train': datasets.CIFAR100(\n",
        "      root=\"data\",\n",
        "      #train=True,\n",
        "      download=True,\n",
        "      transform=image_transforms['train'],\n",
        "    ),\n",
        "    'test': datasets.CIFAR100(\n",
        "      root=\"data\",\n",
        "      train=False,\n",
        "      download=True,\n",
        "      transform=image_transforms['test'],\n",
        "    )\n",
        "}\n",
        "\n",
        "# Dataloader iterators, make sure to shuffle\n",
        "dataloaders = {\n",
        "    'train': DataLoader(dataset['train'], batch_size=batch_size,pin_memory=True, shuffle=True),\n",
        "    'test': DataLoader(dataset['test'], batch_size=batch_size, shuffle=True)\n",
        "}"
      ],
      "execution_count": 36,
      "outputs": [
        {
          "output_type": "stream",
          "text": [
            "Files already downloaded and verified\n",
            "Files already downloaded and verified\n"
          ],
          "name": "stdout"
        }
      ]
    },
    {
      "cell_type": "code",
      "metadata": {
        "id": "_QgxNuhOjFAI"
      },
      "source": [
        "model = lenet(n_classes)"
      ],
      "execution_count": 37,
      "outputs": []
    },
    {
      "cell_type": "code",
      "metadata": {
        "id": "ywPFUQ8UsSbJ"
      },
      "source": [
        "for name, param in model.named_parameters():\n",
        "    param.requires_grad = True\n"
      ],
      "execution_count": 38,
      "outputs": []
    },
    {
      "cell_type": "code",
      "metadata": {
        "id": "gWdztK2Li3ML"
      },
      "source": [
        "# for name, param in model.named_parameters():\n",
        "#     if param.requires_grad:\n",
        "#         if name == \"layer2.2.conv1.weight\":\n",
        "#           print(\"hit\")\n",
        "#           break\n",
        "#         param.requires_grad = False\n"
      ],
      "execution_count": 39,
      "outputs": []
    },
    {
      "cell_type": "code",
      "metadata": {
        "id": "XIvsm0zxKX33"
      },
      "source": [
        "criterion = nn.CrossEntropyLoss()\n",
        "optimizer = torch.optim.SGD(model.parameters(),lr=0.001)"
      ],
      "execution_count": 40,
      "outputs": []
    },
    {
      "cell_type": "code",
      "metadata": {
        "colab": {
          "base_uri": "https://localhost:8080/",
          "height": 1000
        },
        "id": "iDdslroGLNrk",
        "outputId": "2c6b7e5d-6a36-47c4-f268-8c9688bb5140"
      },
      "source": [
        "losses = []\n",
        "accuracies = []\n",
        "r_a = []\n",
        "r_l = []\n",
        "model.train()\n",
        "for epoch in range(n_epochs):\n",
        "  it = 0\n",
        "  for data, targets in dataloaders['train']:\n",
        "    if torch.cuda.is_available():\n",
        "      data = data.cuda()\n",
        "      targets = targets.cuda()\n",
        "    # Generate predictions\n",
        "    \n",
        "    out = model(data)\n",
        "    # Calculate loss\n",
        "    \n",
        "    loss = criterion(out, targets)\n",
        "\n",
        "    loss.backward()\n",
        "\n",
        "    accr = (torch.argmax(out,axis=1) == targets).detach().sum().item() / batch_size\n",
        "    accuracies.append(accr)\n",
        "    losses.append( loss.item() )\n",
        "    # Backpropagation\n",
        "    # Update model parameters\n",
        "    optimizer.step()\n",
        "    if it % 20 == 19:\n",
        "      r_a.append(sum(accuracies[-20:]) / 20)\n",
        "      r_l.append(sum(losses[-20:]) / 20)\n",
        "      print(epoch,it,r_a[-1],r_l[-1])\n",
        "    it += 1\n",
        "    del data\n",
        "    del targets\n",
        "    del out\n",
        "    del loss\n"
      ],
      "execution_count": 41,
      "outputs": [
        {
          "output_type": "stream",
          "text": [
            "0 19 0.009 4.606790590286255\n",
            "0 39 0.008999999999999998 4.606644940376282\n",
            "0 59 0.013500000000000002 4.603760290145874\n",
            "0 79 0.0095 4.6036961555480955\n",
            "0 99 0.010499999999999999 4.60198712348938\n",
            "0 119 0.0205 4.597152519226074\n",
            "0 139 0.017500000000000005 4.5888381719589235\n",
            "0 159 0.017000000000000005 4.566980862617493\n",
            "0 179 0.014000000000000002 4.552139091491699\n",
            "0 199 0.025000000000000005 4.53334379196167\n",
            "0 219 0.029000000000000005 4.5025241613388065\n",
            "0 239 0.03850000000000001 4.470076179504394\n",
            "0 259 0.03450000000000001 4.407719326019287\n",
            "0 279 0.05100000000000001 4.354919219017029\n",
            "0 299 0.05750000000000001 4.310439348220825\n",
            "0 319 0.052000000000000005 4.322149109840393\n",
            "0 339 0.05000000000000001 4.24207067489624\n",
            "0 359 0.05150000000000001 4.204461789131164\n",
            "0 379 0.057500000000000016 4.192747282981872\n",
            "0 399 0.065 4.15292922258377\n",
            "0 419 0.06200000000000002 4.147952389717102\n",
            "0 439 0.06250000000000001 4.105468797683716\n",
            "0 459 0.07300000000000002 4.113160610198975\n",
            "0 479 0.05950000000000002 4.190629649162292\n",
            "0 499 0.06150000000000001 4.19670752286911\n",
            "1 19 0.07050000000000003 4.170479476451874\n",
            "1 39 0.07200000000000004 4.107085359096527\n",
            "1 59 0.06900000000000002 4.170492804050445\n",
            "1 79 0.06450000000000003 4.205286192893982\n",
            "1 99 0.05800000000000001 4.196194338798523\n",
            "1 119 0.07450000000000001 4.134471654891968\n",
            "1 139 0.06950000000000003 4.1718263864517215\n",
            "1 159 0.07500000000000002 4.183651030063629\n",
            "1 179 0.06600000000000002 4.162364876270294\n",
            "1 199 0.068 4.125642001628876\n",
            "1 219 0.07050000000000003 4.106990671157837\n",
            "1 239 0.07050000000000002 4.167295753955841\n",
            "1 259 0.056000000000000015 4.188044333457947\n",
            "1 279 0.06300000000000001 4.2095720887184145\n",
            "1 299 0.0665 4.156449568271637\n",
            "1 319 0.05900000000000002 4.196298670768738\n",
            "1 339 0.04850000000000001 4.239741969108581\n",
            "1 359 0.056000000000000015 4.267780399322509\n",
            "1 379 0.05650000000000001 4.2869717359542845\n",
            "1 399 0.040500000000000015 4.317365264892578\n",
            "1 419 0.038 4.316064095497131\n",
            "1 439 0.04300000000000002 4.275907135009765\n",
            "1 459 0.0405 4.264397692680359\n",
            "1 479 0.039500000000000014 4.302281665802002\n",
            "1 499 0.0365 4.350124669075012\n",
            "2 19 0.044000000000000004 4.360961556434631\n",
            "2 39 0.04250000000000002 4.326622772216797\n",
            "2 59 0.04300000000000002 4.305517721176147\n",
            "2 79 0.03600000000000001 4.35775785446167\n",
            "2 99 0.03650000000000001 4.299828743934631\n",
            "2 119 0.045500000000000006 4.330270075798035\n",
            "2 139 0.042 4.317098760604859\n",
            "2 159 0.05500000000000001 4.248108220100403\n",
            "2 179 0.053000000000000026 4.266143727302551\n",
            "2 199 0.042000000000000016 4.3238637208938595\n",
            "2 219 0.04250000000000002 4.3381305694580075\n",
            "2 239 0.05550000000000001 4.290540289878845\n",
            "2 259 0.05050000000000001 4.276318645477295\n",
            "2 279 0.04800000000000002 4.28975019454956\n",
            "2 299 0.05850000000000001 4.272522449493408\n",
            "2 319 0.06150000000000002 4.222409892082214\n",
            "2 339 0.056000000000000015 4.226901841163635\n",
            "2 359 0.053000000000000026 4.230487990379333\n",
            "2 379 0.05400000000000003 4.25180675983429\n",
            "2 399 0.053000000000000005 4.208003950119019\n",
            "2 419 0.05550000000000001 4.285100102424622\n",
            "2 439 0.05900000000000001 4.2422398090362545\n",
            "2 459 0.05000000000000001 4.246636629104614\n",
            "2 479 0.056500000000000015 4.276622533798218\n",
            "2 499 0.05200000000000001 4.2625972032547\n",
            "3 19 0.057000000000000016 4.29039888381958\n",
            "3 39 0.046000000000000006 4.28731644153595\n",
            "3 59 0.04950000000000001 4.284118485450745\n",
            "3 79 0.044500000000000005 4.294392800331115\n",
            "3 99 0.040000000000000015 4.253703212738037\n",
            "3 119 0.055500000000000015 4.236811709403992\n",
            "3 139 0.052000000000000005 4.250821566581726\n",
            "3 159 0.05200000000000001 4.292498683929443\n",
            "3 179 0.0495 4.264813828468323\n",
            "3 199 0.05250000000000001 4.250474071502685\n",
            "3 219 0.0685 4.243301820755005\n",
            "3 239 0.06250000000000001 4.241388380527496\n",
            "3 259 0.05800000000000001 4.269467210769653\n",
            "3 279 0.05000000000000001 4.305471754074096\n",
            "3 299 0.04950000000000001 4.302735471725464\n",
            "3 319 0.06300000000000003 4.272652530670166\n",
            "3 339 0.046000000000000006 4.359970378875732\n",
            "3 359 0.03700000000000001 4.362014436721802\n",
            "3 379 0.04550000000000002 4.327809596061707\n",
            "3 399 0.05000000000000001 4.283928251266479\n",
            "3 419 0.04900000000000002 4.352862620353699\n",
            "3 439 0.039500000000000014 4.368394756317139\n",
            "3 459 0.054000000000000006 4.285189914703369\n",
            "3 479 0.04800000000000001 4.327604746818542\n",
            "3 499 0.04400000000000001 4.371764469146728\n",
            "4 19 0.055500000000000015 4.338344287872315\n",
            "4 39 0.052000000000000025 4.2757426500320435\n",
            "4 59 0.043 4.354395318031311\n",
            "4 79 0.04650000000000002 4.349085569381714\n",
            "4 99 0.047000000000000014 4.318146514892578\n",
            "4 119 0.04300000000000002 4.287691044807434\n",
            "4 139 0.04850000000000001 4.374940228462219\n",
            "4 159 0.037500000000000006 4.3889037609100345\n",
            "4 179 0.05050000000000001 4.3416097402572635\n",
            "4 199 0.04500000000000002 4.341666173934937\n",
            "4 219 0.040500000000000015 4.327343082427978\n",
            "4 239 0.05300000000000001 4.248915767669677\n",
            "4 259 0.04450000000000001 4.35525233745575\n",
            "4 279 0.04300000000000002 4.311576533317566\n",
            "4 299 0.04400000000000002 4.332699084281922\n",
            "4 319 0.050000000000000024 4.320338201522827\n",
            "4 339 0.05150000000000001 4.289175033569336\n",
            "4 359 0.04550000000000001 4.299172759056091\n",
            "4 379 0.04400000000000002 4.32060022354126\n",
            "4 399 0.042000000000000016 4.286515378952027\n",
            "4 419 0.04900000000000001 4.327592945098877\n",
            "4 439 0.0355 4.372624373435974\n",
            "4 459 0.042 4.421940016746521\n",
            "4 479 0.047000000000000014 4.411141586303711\n",
            "4 499 0.044500000000000005 4.297149896621704\n",
            "5 19 0.04500000000000002 4.368069958686829\n"
          ],
          "name": "stdout"
        },
        {
          "output_type": "error",
          "ename": "KeyboardInterrupt",
          "evalue": "ignored",
          "traceback": [
            "\u001b[0;31m---------------------------------------------------------------------------\u001b[0m",
            "\u001b[0;31mKeyboardInterrupt\u001b[0m                         Traceback (most recent call last)",
            "\u001b[0;32m<ipython-input-41-ac054a4eb7c4>\u001b[0m in \u001b[0;36m<module>\u001b[0;34m()\u001b[0m\n\u001b[1;32m     19\u001b[0m     \u001b[0mloss\u001b[0m\u001b[0;34m.\u001b[0m\u001b[0mbackward\u001b[0m\u001b[0;34m(\u001b[0m\u001b[0;34m)\u001b[0m\u001b[0;34m\u001b[0m\u001b[0;34m\u001b[0m\u001b[0m\n\u001b[1;32m     20\u001b[0m \u001b[0;34m\u001b[0m\u001b[0m\n\u001b[0;32m---> 21\u001b[0;31m     \u001b[0maccr\u001b[0m \u001b[0;34m=\u001b[0m \u001b[0;34m(\u001b[0m\u001b[0mtorch\u001b[0m\u001b[0;34m.\u001b[0m\u001b[0margmax\u001b[0m\u001b[0;34m(\u001b[0m\u001b[0mout\u001b[0m\u001b[0;34m,\u001b[0m\u001b[0maxis\u001b[0m\u001b[0;34m=\u001b[0m\u001b[0;36m1\u001b[0m\u001b[0;34m)\u001b[0m \u001b[0;34m==\u001b[0m \u001b[0mtargets\u001b[0m\u001b[0;34m)\u001b[0m\u001b[0;34m.\u001b[0m\u001b[0mdetach\u001b[0m\u001b[0;34m(\u001b[0m\u001b[0;34m)\u001b[0m\u001b[0;34m.\u001b[0m\u001b[0msum\u001b[0m\u001b[0;34m(\u001b[0m\u001b[0;34m)\u001b[0m\u001b[0;34m.\u001b[0m\u001b[0mitem\u001b[0m\u001b[0;34m(\u001b[0m\u001b[0;34m)\u001b[0m \u001b[0;34m/\u001b[0m \u001b[0mbatch_size\u001b[0m\u001b[0;34m\u001b[0m\u001b[0;34m\u001b[0m\u001b[0m\n\u001b[0m\u001b[1;32m     22\u001b[0m     \u001b[0maccuracies\u001b[0m\u001b[0;34m.\u001b[0m\u001b[0mappend\u001b[0m\u001b[0;34m(\u001b[0m\u001b[0maccr\u001b[0m\u001b[0;34m)\u001b[0m\u001b[0;34m\u001b[0m\u001b[0;34m\u001b[0m\u001b[0m\n\u001b[1;32m     23\u001b[0m     \u001b[0mlosses\u001b[0m\u001b[0;34m.\u001b[0m\u001b[0mappend\u001b[0m\u001b[0;34m(\u001b[0m \u001b[0mloss\u001b[0m\u001b[0;34m.\u001b[0m\u001b[0mitem\u001b[0m\u001b[0;34m(\u001b[0m\u001b[0;34m)\u001b[0m \u001b[0;34m)\u001b[0m\u001b[0;34m\u001b[0m\u001b[0;34m\u001b[0m\u001b[0m\n",
            "\u001b[0;31mKeyboardInterrupt\u001b[0m: "
          ]
        }
      ]
    },
    {
      "cell_type": "code",
      "metadata": {
        "id": "mabMBTmZBJhw"
      },
      "source": [
        "def moving_average(x, w):\n",
        "    return (np.convolve(x, np.ones(w), 'valid') / w)[::w]"
      ],
      "execution_count": 42,
      "outputs": []
    },
    {
      "cell_type": "code",
      "metadata": {
        "id": "Mkdpve9MCFbj",
        "colab": {
          "base_uri": "https://localhost:8080/",
          "height": 590
        },
        "outputId": "4b2eedc8-9c51-4d1a-862d-0333858c4fea"
      },
      "source": [
        "plt.title('Accuracy During Training')\n",
        "plt.ylabel('Accuracy')\n",
        "plt.xlabel('Per 20 Batch')\n",
        "plt.plot(r_a,marker='o')\n",
        "plt.show()\n",
        "plt.title('Mean Loss During Training')\n",
        "plt.ylabel('Loss')\n",
        "plt.xlabel('Per 20 Batch')\n",
        "plt.plot(r_l,marker='o')"
      ],
      "execution_count": 43,
      "outputs": [
        {
          "output_type": "display_data",
          "data": {
            "image/png": "[encoded data removed]",
            "text/plain": [
              "<Figure size 432x288 with 1 Axes>"
            ]
          },
          "metadata": {
            "tags": [],
            "needs_background": "light"
          }
        },
        {
          "output_type": "execute_result",
          "data": {
            "text/plain": [
              "[<matplotlib.lines.Line2D at 0x7f248a6d7d10>]"
            ]
          },
          "metadata": {
            "tags": []
          },
          "execution_count": 43
        },
        {
          "output_type": "display_data",
          "data": {
            "image/png": "[encoded data removed]",
            "text/plain": [
              "<Figure size 432x288 with 1 Axes>"
            ]
          },
          "metadata": {
            "tags": [],
            "needs_background": "light"
          }
        }
      ]
    },
    {
      "cell_type": "code",
      "metadata": {
        "colab": {
          "base_uri": "https://localhost:8080/",
          "height": 590
        },
        "id": "XSUU8BEeBUWN",
        "outputId": "c7d72122-d497-415b-a175-d777d164a9fc"
      },
      "source": [
        "plt.title('Accuracy During Training')\n",
        "plt.ylabel('Accuracy')\n",
        "plt.xlabel('Per Epoch')\n",
        "plt.plot(moving_average(r_a,30),marker='o')\n",
        "plt.show()\n",
        "plt.title('Mean Loss During Training')\n",
        "plt.ylabel('Loss')\n",
        "plt.xlabel('Per Epoch')\n",
        "plt.plot(moving_average(r_l,30),marker='o')"
      ],
      "execution_count": 44,
      "outputs": [
        {
          "output_type": "display_data",
          "data": {
            "image/png": "[encoded data removed]",
            "text/plain": [
              "<Figure size 432x288 with 1 Axes>"
            ]
          },
          "metadata": {
            "tags": [],
            "needs_background": "light"
          }
        },
        {
          "output_type": "execute_result",
          "data": {
            "text/plain": [
              "[<matplotlib.lines.Line2D at 0x7f2492e59690>]"
            ]
          },
          "metadata": {
            "tags": []
          },
          "execution_count": 44
        },
        {
          "output_type": "display_data",
          "data": {
            "image/png": "[encoded data removed]",
            "text/plain": [
              "<Figure size 432x288 with 1 Axes>"
            ]
          },
          "metadata": {
            "tags": [],
            "needs_background": "light"
          }
        }
      ]
    },
    {
      "cell_type": "code",
      "metadata": {
        "id": "LoUHZ3WjBYvo",
        "colab": {
          "base_uri": "https://localhost:8080/"
        },
        "outputId": "db4e0775-fdad-403d-f710-3284176d83d4"
      },
      "source": [
        "model.eval()\n",
        "\n",
        "cnt = 0\n",
        "c_accr = 0\n",
        "for data, targets in dataloaders['test']:\n",
        "  # Generate predictions\n",
        "  data = data.cuda()\n",
        "  targets = targets.cuda()\n",
        "  out = model(data)\n",
        "\n",
        "\n",
        "  accr = (torch.argmax(out,axis=1) == targets).sum().item() / batch_size\n",
        "  c_accr += (accr)\n",
        "\n",
        "  cnt+=1\n",
        "  del data\n",
        "  del targets\n",
        "  del out\n",
        "c_accr /= cnt\n",
        "\n",
        "print(c_accr) #Model Accuracy"
      ],
      "execution_count": 46,
      "outputs": [
        {
          "output_type": "stream",
          "text": [
            "0.03139999999999998\n"
          ],
          "name": "stdout"
        }
      ]
    }
  ]
}